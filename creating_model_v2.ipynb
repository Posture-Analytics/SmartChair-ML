{
 "cells": [
  {
   "cell_type": "markdown",
   "metadata": {},
   "source": [
    "# Initial Imports & Data labeling"
   ]
  },
  {
   "cell_type": "code",
   "execution_count": 1,
   "metadata": {},
   "outputs": [],
   "source": [
    "import streamlit as st\n",
    "import pandas as pd\n",
    "import numpy as np\n",
    "import plotly.express as px\n",
    "import plotly.graph_objects as go\n",
    "from plotly.subplots import make_subplots\n",
    "\n",
    "from sklearn.ensemble import RandomForestClassifier\n",
    "from sklearn.metrics import accuracy_score\n",
    "from sklearn.model_selection import train_test_split\n",
    "\n",
    "# ===== Data ===== #\n",
    "DFS = {\n",
    "    'lag_cp' : pd.read_csv('data/bem_comportadas_laguardia.csv'),\n",
    "    'lag_li' : pd.read_csv('data/livres_laguardia.csv'),\n",
    "    'van_cp' : pd.read_csv('data/bem_comportadas_vanessa.csv'),\n",
    "    'van_li' : pd.read_csv('data/livres_vanessa.csv'),\n",
    "    'bru_cp' : pd.read_csv('data/bem_comportadas_bruno.csv'),\n",
    "    'bru_li' : pd.read_csv('data/livres_bruno.csv'),\n",
    "    'alm_cp' : pd.read_csv('data/bem_comportadas_almir.csv'),\n",
    "}\n",
    "DFS_X = {\n",
    "    'lag_cp' : DFS['lag_cp'].drop('pose', axis=1),\n",
    "    'lag_li' : DFS['lag_li'].drop('pose', axis=1),\n",
    "    'van_cp' : DFS['van_cp'].drop('pose', axis=1),\n",
    "    'van_li' : DFS['van_li'].drop('pose', axis=1),\n",
    "    'bru_cp' : DFS['bru_cp'].drop('pose', axis=1),\n",
    "    'bru_li' : DFS['bru_li'].drop('pose', axis=1),\n",
    "    'alm_cp' : DFS['alm_cp'].drop('pose', axis=1),\n",
    "}\n",
    "DFS_Y = {\n",
    "    'lag_cp' : DFS['lag_cp']['pose'].astype('string'),\n",
    "    'lag_li' : DFS['lag_li']['pose'].astype('string'),\n",
    "    'van_cp' : DFS['van_cp']['pose'].astype('string'),\n",
    "    'van_li' : DFS['van_li']['pose'].astype('string'),\n",
    "    'bru_cp' : DFS['bru_cp']['pose'].astype('string'),\n",
    "    'bru_li' : DFS['bru_li']['pose'].astype('string'),\n",
    "    'alm_cp' : DFS['alm_cp']['pose'].astype('string'),\n",
    "}"
   ]
  },
  {
   "cell_type": "code",
   "execution_count": 2,
   "metadata": {},
   "outputs": [],
   "source": [
    "def recategorize_y(y_vec):\n",
    "    result = y_vec.copy()\n",
    "    result[y_vec == '0'] = 'Not Sitting'\n",
    "    result[y_vec.isin(['1', '2', '12']) ] = 'Sitting Correctly'\n",
    "    result[y_vec.isin(['3', '6']) ] = 'Leaning Forward'\n",
    "    result[y_vec == '7'] = 'Leaning Backward'\n",
    "    result[y_vec.isin(['4', '5', '8', '9', '10', '11']) ] = 'Unbalanced'\n",
    "\n",
    "    return result"
   ]
  },
  {
   "cell_type": "markdown",
   "metadata": {},
   "source": [
    "# Analyzing mean pose"
   ]
  },
  {
   "cell_type": "code",
   "execution_count": 3,
   "metadata": {},
   "outputs": [],
   "source": [
    "def plot_mean_poses(nick):\n",
    "    fig = make_subplots(rows=4, cols=4, subplot_titles=[f'Pose {i}' for i in range(13)])\n",
    "    data = DFS[nick+'_cp'].copy()\n",
    "    data = data.drop(columns=['p07'])\n",
    "\n",
    "\n",
    "    for i in range(13):\n",
    "        i = i\n",
    "        mean_reading = data[data['pose']==i].mean()\n",
    "        mean_reading = mean_reading.drop(labels=['pose'])\n",
    "\n",
    "        fig.add_trace(\n",
    "            go.Bar(\n",
    "                x=mean_reading.index,\n",
    "                y=mean_reading.values,\n",
    "                name=f'Pose {i}',\n",
    "                marker_color='royalblue',\n",
    "            ),\n",
    "            row=(i)//4+1,\n",
    "            col=(i)%4+1\n",
    "        )\n",
    "    \n",
    "    fig.update_layout(height=800, width=1000, title_text=f'Average pose for {nick}')\n",
    "    for i in range(13):\n",
    "        fig.update_yaxes(range=[0, 2000], row=(i)//4+1, col=(i)%4+1)\n",
    "    fig.show()"
   ]
  },
  {
   "cell_type": "code",
   "execution_count": 4,
   "metadata": {},
   "outputs": [
    {
     "data": {
      "application/vnd.plotly.v1+json": {
       "config": {
        "plotlyServerURL": "https://plot.ly"
       },
       "data": [
        {
         "marker": {
          "color": "royalblue"
         },
         "name": "Pose 0",
         "type": "bar",
         "x": [
          "p00",
          "p01",
          "p02",
          "p03",
          "p04",
          "p05",
          "p06",
          "p08",
          "p09",
          "p10",
          "p11"
         ],
         "xaxis": "x",
         "y": [
          0.0594059405940594,
          0,
          0,
          0,
          10.423267326732674,
          10.040841584158416,
          4.193069306930693,
          7.25990099009901,
          9.238861386138614,
          14.868811881188119,
          21.780940594059405
         ],
         "yaxis": "y"
        },
        {
         "marker": {
          "color": "royalblue"
         },
         "name": "Pose 1",
         "type": "bar",
         "x": [
          "p00",
          "p01",
          "p02",
          "p03",
          "p04",
          "p05",
          "p06",
          "p08",
          "p09",
          "p10",
          "p11"
         ],
         "xaxis": "x2",
         "y": [
          1965.0380952380951,
          2322.7825396825397,
          464.14444444444445,
          1411.7730158730158,
          1155.9539682539682,
          1049.1714285714286,
          295.45714285714286,
          882.3650793650794,
          722.3730158730159,
          515.6428571428571,
          1076.5587301587302
         ],
         "yaxis": "y2"
        },
        {
         "marker": {
          "color": "royalblue"
         },
         "name": "Pose 2",
         "type": "bar",
         "x": [
          "p00",
          "p01",
          "p02",
          "p03",
          "p04",
          "p05",
          "p06",
          "p08",
          "p09",
          "p10",
          "p11"
         ],
         "xaxis": "x3",
         "y": [
          16.994994994994993,
          1117.1701701701702,
          0,
          0,
          1161.054054054054,
          1085.019019019019,
          260.5645645645646,
          1137.4624624624626,
          855.5185185185185,
          985.8908908908909,
          1374.5595595595596
         ],
         "yaxis": "y3"
        },
        {
         "marker": {
          "color": "royalblue"
         },
         "name": "Pose 3",
         "type": "bar",
         "x": [
          "p00",
          "p01",
          "p02",
          "p03",
          "p04",
          "p05",
          "p06",
          "p08",
          "p09",
          "p10",
          "p11"
         ],
         "xaxis": "x4",
         "y": [
          0,
          0,
          0,
          0,
          872.7024390243903,
          978.0910569105691,
          325.5170731707317,
          1149.4845528455285,
          890.2016260162602,
          922.4975609756098,
          1215.8373983739837
         ],
         "yaxis": "y4"
        },
        {
         "marker": {
          "color": "royalblue"
         },
         "name": "Pose 4",
         "type": "bar",
         "x": [
          "p00",
          "p01",
          "p02",
          "p03",
          "p04",
          "p05",
          "p06",
          "p08",
          "p09",
          "p10",
          "p11"
         ],
         "xaxis": "x5",
         "y": [
          0,
          2593.9617834394903,
          0,
          0,
          1219.0934182590233,
          684.3418259023355,
          390.4033970276009,
          1082.687898089172,
          478.38216560509557,
          717.9766454352441,
          1304.5732484076434
         ],
         "yaxis": "y5"
        },
        {
         "marker": {
          "color": "royalblue"
         },
         "name": "Pose 5",
         "type": "bar",
         "x": [
          "p00",
          "p01",
          "p02",
          "p03",
          "p04",
          "p05",
          "p06",
          "p08",
          "p09",
          "p10",
          "p11"
         ],
         "xaxis": "x6",
         "y": [
          null,
          null,
          null,
          null,
          null,
          null,
          null,
          null,
          null,
          null,
          null
         ],
         "yaxis": "y6"
        },
        {
         "marker": {
          "color": "royalblue"
         },
         "name": "Pose 6",
         "type": "bar",
         "x": [
          "p00",
          "p01",
          "p02",
          "p03",
          "p04",
          "p05",
          "p06",
          "p08",
          "p09",
          "p10",
          "p11"
         ],
         "xaxis": "x7",
         "y": [
          null,
          null,
          null,
          null,
          null,
          null,
          null,
          null,
          null,
          null,
          null
         ],
         "yaxis": "y7"
        },
        {
         "marker": {
          "color": "royalblue"
         },
         "name": "Pose 7",
         "type": "bar",
         "x": [
          "p00",
          "p01",
          "p02",
          "p03",
          "p04",
          "p05",
          "p06",
          "p08",
          "p09",
          "p10",
          "p11"
         ],
         "xaxis": "x8",
         "y": [
          128.70906200317964,
          9.3879173290938,
          1088.2925278219395,
          2244.766295707472,
          10.99523052464229,
          14.823529411764707,
          450.9220985691574,
          675.6661367249602,
          429.00317965023845,
          669.6597774244833,
          992.3513513513514
         ],
         "yaxis": "y8"
        },
        {
         "marker": {
          "color": "royalblue"
         },
         "name": "Pose 8",
         "type": "bar",
         "x": [
          "p00",
          "p01",
          "p02",
          "p03",
          "p04",
          "p05",
          "p06",
          "p08",
          "p09",
          "p10",
          "p11"
         ],
         "xaxis": "x9",
         "y": [
          1219.8,
          2673.312396694215,
          226.16694214876034,
          1528.5900826446282,
          872.0247933884298,
          921.0644628099174,
          488.9933884297521,
          17.940495867768593,
          403.0413223140496,
          2.750413223140496,
          1612.2561983471073
         ],
         "yaxis": "y9"
        },
        {
         "marker": {
          "color": "royalblue"
         },
         "name": "Pose 9",
         "type": "bar",
         "x": [
          "p00",
          "p01",
          "p02",
          "p03",
          "p04",
          "p05",
          "p06",
          "p08",
          "p09",
          "p10",
          "p11"
         ],
         "xaxis": "x10",
         "y": [
          2403.5139146567717,
          2165.974025974026,
          70.17439703153988,
          81.39888682745826,
          813.8849721706864,
          954.4972170686457,
          445.00371057513917,
          0,
          1.235621521335807,
          956.7662337662338,
          2.688311688311688
         ],
         "yaxis": "y10"
        },
        {
         "marker": {
          "color": "royalblue"
         },
         "name": "Pose 10",
         "type": "bar",
         "x": [
          "p00",
          "p01",
          "p02",
          "p03",
          "p04",
          "p05",
          "p06",
          "p08",
          "p09",
          "p10",
          "p11"
         ],
         "xaxis": "x11",
         "y": [
          1898.7479935794543,
          0,
          0,
          0,
          901.8073836276084,
          1389.5008025682182,
          173.77528089887642,
          445.1268057784912,
          948.7752808988764,
          603.9695024077047,
          978.4205457463885
         ],
         "yaxis": "y11"
        },
        {
         "marker": {
          "color": "royalblue"
         },
         "name": "Pose 11",
         "type": "bar",
         "x": [
          "p00",
          "p01",
          "p02",
          "p03",
          "p04",
          "p05",
          "p06",
          "p08",
          "p09",
          "p10",
          "p11"
         ],
         "xaxis": "x12",
         "y": [
          0.020833333333333332,
          2741.8333333333335,
          0.18108974358974358,
          0,
          1347.7403846153845,
          936.8333333333334,
          441.93429487179486,
          1210.6586538461538,
          227.32371794871796,
          782.0240384615385,
          612.1121794871794
         ],
         "yaxis": "y12"
        },
        {
         "marker": {
          "color": "royalblue"
         },
         "name": "Pose 12",
         "type": "bar",
         "x": [
          "p00",
          "p01",
          "p02",
          "p03",
          "p04",
          "p05",
          "p06",
          "p08",
          "p09",
          "p10",
          "p11"
         ],
         "xaxis": "x13",
         "y": [
          1903.4667747163696,
          19.434359805510535,
          1165.189627228525,
          1791.2982171799028,
          359.48946515397085,
          503.6239870340357,
          483.45705024311184,
          797.2706645056726,
          335.0162074554295,
          917.4975688816855,
          742.1102106969206
         ],
         "yaxis": "y13"
        }
       ],
       "layout": {
        "annotations": [
         {
          "font": {
           "size": 16
          },
          "showarrow": false,
          "text": "Pose 0",
          "x": 0.10625,
          "xanchor": "center",
          "xref": "paper",
          "y": 1,
          "yanchor": "bottom",
          "yref": "paper"
         },
         {
          "font": {
           "size": 16
          },
          "showarrow": false,
          "text": "Pose 1",
          "x": 0.36875,
          "xanchor": "center",
          "xref": "paper",
          "y": 1,
          "yanchor": "bottom",
          "yref": "paper"
         },
         {
          "font": {
           "size": 16
          },
          "showarrow": false,
          "text": "Pose 2",
          "x": 0.6312500000000001,
          "xanchor": "center",
          "xref": "paper",
          "y": 1,
          "yanchor": "bottom",
          "yref": "paper"
         },
         {
          "font": {
           "size": 16
          },
          "showarrow": false,
          "text": "Pose 3",
          "x": 0.89375,
          "xanchor": "center",
          "xref": "paper",
          "y": 1,
          "yanchor": "bottom",
          "yref": "paper"
         },
         {
          "font": {
           "size": 16
          },
          "showarrow": false,
          "text": "Pose 4",
          "x": 0.10625,
          "xanchor": "center",
          "xref": "paper",
          "y": 0.71875,
          "yanchor": "bottom",
          "yref": "paper"
         },
         {
          "font": {
           "size": 16
          },
          "showarrow": false,
          "text": "Pose 5",
          "x": 0.36875,
          "xanchor": "center",
          "xref": "paper",
          "y": 0.71875,
          "yanchor": "bottom",
          "yref": "paper"
         },
         {
          "font": {
           "size": 16
          },
          "showarrow": false,
          "text": "Pose 6",
          "x": 0.6312500000000001,
          "xanchor": "center",
          "xref": "paper",
          "y": 0.71875,
          "yanchor": "bottom",
          "yref": "paper"
         },
         {
          "font": {
           "size": 16
          },
          "showarrow": false,
          "text": "Pose 7",
          "x": 0.89375,
          "xanchor": "center",
          "xref": "paper",
          "y": 0.71875,
          "yanchor": "bottom",
          "yref": "paper"
         },
         {
          "font": {
           "size": 16
          },
          "showarrow": false,
          "text": "Pose 8",
          "x": 0.10625,
          "xanchor": "center",
          "xref": "paper",
          "y": 0.4375,
          "yanchor": "bottom",
          "yref": "paper"
         },
         {
          "font": {
           "size": 16
          },
          "showarrow": false,
          "text": "Pose 9",
          "x": 0.36875,
          "xanchor": "center",
          "xref": "paper",
          "y": 0.4375,
          "yanchor": "bottom",
          "yref": "paper"
         },
         {
          "font": {
           "size": 16
          },
          "showarrow": false,
          "text": "Pose 10",
          "x": 0.6312500000000001,
          "xanchor": "center",
          "xref": "paper",
          "y": 0.4375,
          "yanchor": "bottom",
          "yref": "paper"
         },
         {
          "font": {
           "size": 16
          },
          "showarrow": false,
          "text": "Pose 11",
          "x": 0.89375,
          "xanchor": "center",
          "xref": "paper",
          "y": 0.4375,
          "yanchor": "bottom",
          "yref": "paper"
         },
         {
          "font": {
           "size": 16
          },
          "showarrow": false,
          "text": "Pose 12",
          "x": 0.10625,
          "xanchor": "center",
          "xref": "paper",
          "y": 0.15625,
          "yanchor": "bottom",
          "yref": "paper"
         }
        ],
        "height": 800,
        "template": {
         "data": {
          "candlestick": [
           {
            "decreasing": {
             "line": {
              "color": "#000033"
             }
            },
            "increasing": {
             "line": {
              "color": "#000032"
             }
            },
            "type": "candlestick"
           }
          ],
          "contour": [
           {
            "colorscale": [
             [
              0,
              "#000011"
             ],
             [
              0.1111111111111111,
              "#000012"
             ],
             [
              0.2222222222222222,
              "#000013"
             ],
             [
              0.3333333333333333,
              "#000014"
             ],
             [
              0.4444444444444444,
              "#000015"
             ],
             [
              0.5555555555555556,
              "#000016"
             ],
             [
              0.6666666666666666,
              "#000017"
             ],
             [
              0.7777777777777778,
              "#000018"
             ],
             [
              0.8888888888888888,
              "#000019"
             ],
             [
              1,
              "#000020"
             ]
            ],
            "type": "contour"
           }
          ],
          "contourcarpet": [
           {
            "colorscale": [
             [
              0,
              "#000011"
             ],
             [
              0.1111111111111111,
              "#000012"
             ],
             [
              0.2222222222222222,
              "#000013"
             ],
             [
              0.3333333333333333,
              "#000014"
             ],
             [
              0.4444444444444444,
              "#000015"
             ],
             [
              0.5555555555555556,
              "#000016"
             ],
             [
              0.6666666666666666,
              "#000017"
             ],
             [
              0.7777777777777778,
              "#000018"
             ],
             [
              0.8888888888888888,
              "#000019"
             ],
             [
              1,
              "#000020"
             ]
            ],
            "type": "contourcarpet"
           }
          ],
          "heatmap": [
           {
            "colorscale": [
             [
              0,
              "#000011"
             ],
             [
              0.1111111111111111,
              "#000012"
             ],
             [
              0.2222222222222222,
              "#000013"
             ],
             [
              0.3333333333333333,
              "#000014"
             ],
             [
              0.4444444444444444,
              "#000015"
             ],
             [
              0.5555555555555556,
              "#000016"
             ],
             [
              0.6666666666666666,
              "#000017"
             ],
             [
              0.7777777777777778,
              "#000018"
             ],
             [
              0.8888888888888888,
              "#000019"
             ],
             [
              1,
              "#000020"
             ]
            ],
            "type": "heatmap"
           }
          ],
          "histogram2d": [
           {
            "colorscale": [
             [
              0,
              "#000011"
             ],
             [
              0.1111111111111111,
              "#000012"
             ],
             [
              0.2222222222222222,
              "#000013"
             ],
             [
              0.3333333333333333,
              "#000014"
             ],
             [
              0.4444444444444444,
              "#000015"
             ],
             [
              0.5555555555555556,
              "#000016"
             ],
             [
              0.6666666666666666,
              "#000017"
             ],
             [
              0.7777777777777778,
              "#000018"
             ],
             [
              0.8888888888888888,
              "#000019"
             ],
             [
              1,
              "#000020"
             ]
            ],
            "type": "histogram2d"
           }
          ],
          "icicle": [
           {
            "textfont": {
             "color": "white"
            },
            "type": "icicle"
           }
          ],
          "sankey": [
           {
            "textfont": {
             "color": "#000036"
            },
            "type": "sankey"
           }
          ],
          "scatter": [
           {
            "marker": {
             "line": {
              "width": 0
             }
            },
            "type": "scatter"
           }
          ],
          "table": [
           {
            "cells": {
             "fill": {
              "color": "#000038"
             },
             "font": {
              "color": "#000037"
             },
             "line": {
              "color": "#000039"
             }
            },
            "header": {
             "fill": {
              "color": "#000040"
             },
             "font": {
              "color": "#000036"
             },
             "line": {
              "color": "#000039"
             }
            },
            "type": "table"
           }
          ],
          "waterfall": [
           {
            "connector": {
             "line": {
              "color": "#000036",
              "width": 2
             }
            },
            "decreasing": {
             "marker": {
              "color": "#000033"
             }
            },
            "increasing": {
             "marker": {
              "color": "#000032"
             }
            },
            "totals": {
             "marker": {
              "color": "#000034"
             }
            },
            "type": "waterfall"
           }
          ]
         },
         "layout": {
          "coloraxis": {
           "colorscale": [
            [
             0,
             "#000011"
            ],
            [
             0.1111111111111111,
             "#000012"
            ],
            [
             0.2222222222222222,
             "#000013"
            ],
            [
             0.3333333333333333,
             "#000014"
            ],
            [
             0.4444444444444444,
             "#000015"
            ],
            [
             0.5555555555555556,
             "#000016"
            ],
            [
             0.6666666666666666,
             "#000017"
            ],
            [
             0.7777777777777778,
             "#000018"
            ],
            [
             0.8888888888888888,
             "#000019"
            ],
            [
             1,
             "#000020"
            ]
           ]
          },
          "colorscale": {
           "diverging": [
            [
             0,
             "#000021"
            ],
            [
             0.1,
             "#000022"
            ],
            [
             0.2,
             "#000023"
            ],
            [
             0.3,
             "#000024"
            ],
            [
             0.4,
             "#000025"
            ],
            [
             0.5,
             "#000026"
            ],
            [
             0.6,
             "#000027"
            ],
            [
             0.7,
             "#000028"
            ],
            [
             0.8,
             "#000029"
            ],
            [
             0.9,
             "#000030"
            ],
            [
             1,
             "#000031"
            ]
           ],
           "sequential": [
            [
             0,
             "#000011"
            ],
            [
             0.1111111111111111,
             "#000012"
            ],
            [
             0.2222222222222222,
             "#000013"
            ],
            [
             0.3333333333333333,
             "#000014"
            ],
            [
             0.4444444444444444,
             "#000015"
            ],
            [
             0.5555555555555556,
             "#000016"
            ],
            [
             0.6666666666666666,
             "#000017"
            ],
            [
             0.7777777777777778,
             "#000018"
            ],
            [
             0.8888888888888888,
             "#000019"
            ],
            [
             1,
             "#000020"
            ]
           ],
           "sequentialminus": [
            [
             0,
             "#000011"
            ],
            [
             0.1111111111111111,
             "#000012"
            ],
            [
             0.2222222222222222,
             "#000013"
            ],
            [
             0.3333333333333333,
             "#000014"
            ],
            [
             0.4444444444444444,
             "#000015"
            ],
            [
             0.5555555555555556,
             "#000016"
            ],
            [
             0.6666666666666666,
             "#000017"
            ],
            [
             0.7777777777777778,
             "#000018"
            ],
            [
             0.8888888888888888,
             "#000019"
            ],
            [
             1,
             "#000020"
            ]
           ]
          },
          "colorway": [
           "#000001",
           "#000002",
           "#000003",
           "#000004",
           "#000005",
           "#000006",
           "#000007",
           "#000008",
           "#000009",
           "#000010"
          ]
         }
        },
        "title": {
         "text": "Average pose for van"
        },
        "width": 1000,
        "xaxis": {
         "anchor": "y",
         "domain": [
          0,
          0.2125
         ]
        },
        "xaxis10": {
         "anchor": "y10",
         "domain": [
          0.2625,
          0.475
         ]
        },
        "xaxis11": {
         "anchor": "y11",
         "domain": [
          0.525,
          0.7375
         ]
        },
        "xaxis12": {
         "anchor": "y12",
         "domain": [
          0.7875,
          1
         ]
        },
        "xaxis13": {
         "anchor": "y13",
         "domain": [
          0,
          0.2125
         ]
        },
        "xaxis14": {
         "anchor": "y14",
         "domain": [
          0.2625,
          0.475
         ]
        },
        "xaxis15": {
         "anchor": "y15",
         "domain": [
          0.525,
          0.7375
         ]
        },
        "xaxis16": {
         "anchor": "y16",
         "domain": [
          0.7875,
          1
         ]
        },
        "xaxis2": {
         "anchor": "y2",
         "domain": [
          0.2625,
          0.475
         ]
        },
        "xaxis3": {
         "anchor": "y3",
         "domain": [
          0.525,
          0.7375
         ]
        },
        "xaxis4": {
         "anchor": "y4",
         "domain": [
          0.7875,
          1
         ]
        },
        "xaxis5": {
         "anchor": "y5",
         "domain": [
          0,
          0.2125
         ]
        },
        "xaxis6": {
         "anchor": "y6",
         "domain": [
          0.2625,
          0.475
         ]
        },
        "xaxis7": {
         "anchor": "y7",
         "domain": [
          0.525,
          0.7375
         ]
        },
        "xaxis8": {
         "anchor": "y8",
         "domain": [
          0.7875,
          1
         ]
        },
        "xaxis9": {
         "anchor": "y9",
         "domain": [
          0,
          0.2125
         ]
        },
        "yaxis": {
         "anchor": "x",
         "domain": [
          0.84375,
          1
         ],
         "range": [
          0,
          2000
         ]
        },
        "yaxis10": {
         "anchor": "x10",
         "domain": [
          0.28125,
          0.4375
         ],
         "range": [
          0,
          2000
         ]
        },
        "yaxis11": {
         "anchor": "x11",
         "domain": [
          0.28125,
          0.4375
         ],
         "range": [
          0,
          2000
         ]
        },
        "yaxis12": {
         "anchor": "x12",
         "domain": [
          0.28125,
          0.4375
         ],
         "range": [
          0,
          2000
         ]
        },
        "yaxis13": {
         "anchor": "x13",
         "domain": [
          0,
          0.15625
         ],
         "range": [
          0,
          2000
         ]
        },
        "yaxis14": {
         "anchor": "x14",
         "domain": [
          0,
          0.15625
         ]
        },
        "yaxis15": {
         "anchor": "x15",
         "domain": [
          0,
          0.15625
         ]
        },
        "yaxis16": {
         "anchor": "x16",
         "domain": [
          0,
          0.15625
         ]
        },
        "yaxis2": {
         "anchor": "x2",
         "domain": [
          0.84375,
          1
         ],
         "range": [
          0,
          2000
         ]
        },
        "yaxis3": {
         "anchor": "x3",
         "domain": [
          0.84375,
          1
         ],
         "range": [
          0,
          2000
         ]
        },
        "yaxis4": {
         "anchor": "x4",
         "domain": [
          0.84375,
          1
         ],
         "range": [
          0,
          2000
         ]
        },
        "yaxis5": {
         "anchor": "x5",
         "domain": [
          0.5625,
          0.71875
         ],
         "range": [
          0,
          2000
         ]
        },
        "yaxis6": {
         "anchor": "x6",
         "domain": [
          0.5625,
          0.71875
         ],
         "range": [
          0,
          2000
         ]
        },
        "yaxis7": {
         "anchor": "x7",
         "domain": [
          0.5625,
          0.71875
         ],
         "range": [
          0,
          2000
         ]
        },
        "yaxis8": {
         "anchor": "x8",
         "domain": [
          0.5625,
          0.71875
         ],
         "range": [
          0,
          2000
         ]
        },
        "yaxis9": {
         "anchor": "x9",
         "domain": [
          0.28125,
          0.4375
         ],
         "range": [
          0,
          2000
         ]
        }
       }
      }
     },
     "metadata": {},
     "output_type": "display_data"
    }
   ],
   "source": [
    "plot_mean_poses('van')"
   ]
  },
  {
   "cell_type": "code",
   "execution_count": 5,
   "metadata": {},
   "outputs": [
    {
     "data": {
      "application/vnd.plotly.v1+json": {
       "config": {
        "plotlyServerURL": "https://plot.ly"
       },
       "data": [
        {
         "marker": {
          "color": "royalblue"
         },
         "name": "Pose 0",
         "type": "bar",
         "x": [
          "p00",
          "p01",
          "p02",
          "p03",
          "p04",
          "p05",
          "p06",
          "p08",
          "p09",
          "p10",
          "p11"
         ],
         "xaxis": "x",
         "y": [
          null,
          null,
          null,
          null,
          null,
          null,
          null,
          null,
          null,
          null,
          null
         ],
         "yaxis": "y"
        },
        {
         "marker": {
          "color": "royalblue"
         },
         "name": "Pose 1",
         "type": "bar",
         "x": [
          "p00",
          "p01",
          "p02",
          "p03",
          "p04",
          "p05",
          "p06",
          "p08",
          "p09",
          "p10",
          "p11"
         ],
         "xaxis": "x2",
         "y": [
          2434.096666666667,
          1824.7966666666666,
          347.4066666666667,
          1117.76,
          1552.85,
          1277.0566666666666,
          302.99333333333334,
          631.3066666666666,
          470.2033333333333,
          288.3833333333333,
          772.4866666666667
         ],
         "yaxis": "y2"
        },
        {
         "marker": {
          "color": "royalblue"
         },
         "name": "Pose 2",
         "type": "bar",
         "x": [
          "p00",
          "p01",
          "p02",
          "p03",
          "p04",
          "p05",
          "p06",
          "p08",
          "p09",
          "p10",
          "p11"
         ],
         "xaxis": "x3",
         "y": [
          0,
          0,
          0,
          0,
          1615.7151702786377,
          1761.4674922600618,
          487.625386996904,
          1052.139318885449,
          704.1269349845202,
          728.8482972136223,
          710.8204334365325
         ],
         "yaxis": "y3"
        },
        {
         "marker": {
          "color": "royalblue"
         },
         "name": "Pose 3",
         "type": "bar",
         "x": [
          "p00",
          "p01",
          "p02",
          "p03",
          "p04",
          "p05",
          "p06",
          "p08",
          "p09",
          "p10",
          "p11"
         ],
         "xaxis": "x4",
         "y": [
          0,
          0,
          0,
          0,
          1306.9009584664536,
          1122.1725239616615,
          342.5718849840256,
          1087.038338658147,
          692.8178913738019,
          6.4504792332268375,
          476.5782747603834
         ],
         "yaxis": "y4"
        },
        {
         "marker": {
          "color": "royalblue"
         },
         "name": "Pose 4",
         "type": "bar",
         "x": [
          "p00",
          "p01",
          "p02",
          "p03",
          "p04",
          "p05",
          "p06",
          "p08",
          "p09",
          "p10",
          "p11"
         ],
         "xaxis": "x5",
         "y": [
          1343.429003021148,
          1.163141993957704,
          0,
          0,
          1174.6495468277947,
          1345.501510574018,
          389.8398791540786,
          916.1842900302115,
          478.4622356495468,
          491.3202416918429,
          727.4743202416919
         ],
         "yaxis": "y5"
        },
        {
         "marker": {
          "color": "royalblue"
         },
         "name": "Pose 5",
         "type": "bar",
         "x": [
          "p00",
          "p01",
          "p02",
          "p03",
          "p04",
          "p05",
          "p06",
          "p08",
          "p09",
          "p10",
          "p11"
         ],
         "xaxis": "x6",
         "y": [
          0,
          2274.808917197452,
          0,
          0,
          1497.5095541401274,
          595.6305732484077,
          433.40445859872614,
          956.7133757961783,
          296.52547770700636,
          0,
          997.9745222929936
         ],
         "yaxis": "y6"
        },
        {
         "marker": {
          "color": "royalblue"
         },
         "name": "Pose 6",
         "type": "bar",
         "x": [
          "p00",
          "p01",
          "p02",
          "p03",
          "p04",
          "p05",
          "p06",
          "p08",
          "p09",
          "p10",
          "p11"
         ],
         "xaxis": "x7",
         "y": [
          0,
          0,
          0,
          0,
          1055.1041009463722,
          940.4258675078864,
          340.391167192429,
          1272.7160883280758,
          937.8895899053628,
          1.1545741324921135,
          0
         ],
         "yaxis": "y7"
        },
        {
         "marker": {
          "color": "royalblue"
         },
         "name": "Pose 7",
         "type": "bar",
         "x": [
          "p00",
          "p01",
          "p02",
          "p03",
          "p04",
          "p05",
          "p06",
          "p08",
          "p09",
          "p10",
          "p11"
         ],
         "xaxis": "x8",
         "y": [
          0,
          0,
          2515.6966666666667,
          4019.4166666666665,
          0,
          0,
          431.5366666666667,
          431.71,
          345.82666666666665,
          605.3966666666666,
          871.0333333333333
         ],
         "yaxis": "y8"
        },
        {
         "marker": {
          "color": "royalblue"
         },
         "name": "Pose 8",
         "type": "bar",
         "x": [
          "p00",
          "p01",
          "p02",
          "p03",
          "p04",
          "p05",
          "p06",
          "p08",
          "p09",
          "p10",
          "p11"
         ],
         "xaxis": "x9",
         "y": [
          763.7484472049689,
          1803.0962732919254,
          0,
          0,
          1252.1801242236024,
          1571.723602484472,
          335.5621118012422,
          431.0869565217391,
          222.69875776397515,
          504.9751552795031,
          8.046583850931677
         ],
         "yaxis": "y9"
        },
        {
         "marker": {
          "color": "royalblue"
         },
         "name": "Pose 9",
         "type": "bar",
         "x": [
          "p00",
          "p01",
          "p02",
          "p03",
          "p04",
          "p05",
          "p06",
          "p08",
          "p09",
          "p10",
          "p11"
         ],
         "xaxis": "x10",
         "y": [
          873.409375,
          2496.640625,
          0,
          0,
          1463.01875,
          1384.259375,
          512.459375,
          521.071875,
          436.74375,
          0,
          1047.090625
         ],
         "yaxis": "y10"
        },
        {
         "marker": {
          "color": "royalblue"
         },
         "name": "Pose 10",
         "type": "bar",
         "x": [
          "p00",
          "p01",
          "p02",
          "p03",
          "p04",
          "p05",
          "p06",
          "p08",
          "p09",
          "p10",
          "p11"
         ],
         "xaxis": "x11",
         "y": [
          0,
          2252.795031055901,
          0,
          0,
          1359.0900621118012,
          762.9378881987577,
          715.0465838509317,
          970.22049689441,
          459.3105590062112,
          1145.776397515528,
          1342.3012422360248
         ],
         "yaxis": "y11"
        },
        {
         "marker": {
          "color": "royalblue"
         },
         "name": "Pose 11",
         "type": "bar",
         "x": [
          "p00",
          "p01",
          "p02",
          "p03",
          "p04",
          "p05",
          "p06",
          "p08",
          "p09",
          "p10",
          "p11"
         ],
         "xaxis": "x12",
         "y": [
          2235.4303405572755,
          0,
          0,
          537.421052631579,
          899.5510835913312,
          1294.0743034055727,
          218.60990712074303,
          530.4427244582043,
          609.0557275541796,
          507.76780185758514,
          1146.2074303405573
         ],
         "yaxis": "y12"
        },
        {
         "marker": {
          "color": "royalblue"
         },
         "name": "Pose 12",
         "type": "bar",
         "x": [
          "p00",
          "p01",
          "p02",
          "p03",
          "p04",
          "p05",
          "p06",
          "p08",
          "p09",
          "p10",
          "p11"
         ],
         "xaxis": "x13",
         "y": [
          1.7125748502994012,
          2.2065868263473054,
          157.66467065868264,
          3217.6586826347307,
          806.5449101796407,
          1131.4101796407185,
          396.5688622754491,
          600.5269461077844,
          450.1736526946108,
          656.874251497006,
          899.6197604790419
         ],
         "yaxis": "y13"
        }
       ],
       "layout": {
        "annotations": [
         {
          "font": {
           "size": 16
          },
          "showarrow": false,
          "text": "Pose 0",
          "x": 0.10625,
          "xanchor": "center",
          "xref": "paper",
          "y": 1,
          "yanchor": "bottom",
          "yref": "paper"
         },
         {
          "font": {
           "size": 16
          },
          "showarrow": false,
          "text": "Pose 1",
          "x": 0.36875,
          "xanchor": "center",
          "xref": "paper",
          "y": 1,
          "yanchor": "bottom",
          "yref": "paper"
         },
         {
          "font": {
           "size": 16
          },
          "showarrow": false,
          "text": "Pose 2",
          "x": 0.6312500000000001,
          "xanchor": "center",
          "xref": "paper",
          "y": 1,
          "yanchor": "bottom",
          "yref": "paper"
         },
         {
          "font": {
           "size": 16
          },
          "showarrow": false,
          "text": "Pose 3",
          "x": 0.89375,
          "xanchor": "center",
          "xref": "paper",
          "y": 1,
          "yanchor": "bottom",
          "yref": "paper"
         },
         {
          "font": {
           "size": 16
          },
          "showarrow": false,
          "text": "Pose 4",
          "x": 0.10625,
          "xanchor": "center",
          "xref": "paper",
          "y": 0.71875,
          "yanchor": "bottom",
          "yref": "paper"
         },
         {
          "font": {
           "size": 16
          },
          "showarrow": false,
          "text": "Pose 5",
          "x": 0.36875,
          "xanchor": "center",
          "xref": "paper",
          "y": 0.71875,
          "yanchor": "bottom",
          "yref": "paper"
         },
         {
          "font": {
           "size": 16
          },
          "showarrow": false,
          "text": "Pose 6",
          "x": 0.6312500000000001,
          "xanchor": "center",
          "xref": "paper",
          "y": 0.71875,
          "yanchor": "bottom",
          "yref": "paper"
         },
         {
          "font": {
           "size": 16
          },
          "showarrow": false,
          "text": "Pose 7",
          "x": 0.89375,
          "xanchor": "center",
          "xref": "paper",
          "y": 0.71875,
          "yanchor": "bottom",
          "yref": "paper"
         },
         {
          "font": {
           "size": 16
          },
          "showarrow": false,
          "text": "Pose 8",
          "x": 0.10625,
          "xanchor": "center",
          "xref": "paper",
          "y": 0.4375,
          "yanchor": "bottom",
          "yref": "paper"
         },
         {
          "font": {
           "size": 16
          },
          "showarrow": false,
          "text": "Pose 9",
          "x": 0.36875,
          "xanchor": "center",
          "xref": "paper",
          "y": 0.4375,
          "yanchor": "bottom",
          "yref": "paper"
         },
         {
          "font": {
           "size": 16
          },
          "showarrow": false,
          "text": "Pose 10",
          "x": 0.6312500000000001,
          "xanchor": "center",
          "xref": "paper",
          "y": 0.4375,
          "yanchor": "bottom",
          "yref": "paper"
         },
         {
          "font": {
           "size": 16
          },
          "showarrow": false,
          "text": "Pose 11",
          "x": 0.89375,
          "xanchor": "center",
          "xref": "paper",
          "y": 0.4375,
          "yanchor": "bottom",
          "yref": "paper"
         },
         {
          "font": {
           "size": 16
          },
          "showarrow": false,
          "text": "Pose 12",
          "x": 0.10625,
          "xanchor": "center",
          "xref": "paper",
          "y": 0.15625,
          "yanchor": "bottom",
          "yref": "paper"
         }
        ],
        "height": 800,
        "template": {
         "data": {
          "candlestick": [
           {
            "decreasing": {
             "line": {
              "color": "#000033"
             }
            },
            "increasing": {
             "line": {
              "color": "#000032"
             }
            },
            "type": "candlestick"
           }
          ],
          "contour": [
           {
            "colorscale": [
             [
              0,
              "#000011"
             ],
             [
              0.1111111111111111,
              "#000012"
             ],
             [
              0.2222222222222222,
              "#000013"
             ],
             [
              0.3333333333333333,
              "#000014"
             ],
             [
              0.4444444444444444,
              "#000015"
             ],
             [
              0.5555555555555556,
              "#000016"
             ],
             [
              0.6666666666666666,
              "#000017"
             ],
             [
              0.7777777777777778,
              "#000018"
             ],
             [
              0.8888888888888888,
              "#000019"
             ],
             [
              1,
              "#000020"
             ]
            ],
            "type": "contour"
           }
          ],
          "contourcarpet": [
           {
            "colorscale": [
             [
              0,
              "#000011"
             ],
             [
              0.1111111111111111,
              "#000012"
             ],
             [
              0.2222222222222222,
              "#000013"
             ],
             [
              0.3333333333333333,
              "#000014"
             ],
             [
              0.4444444444444444,
              "#000015"
             ],
             [
              0.5555555555555556,
              "#000016"
             ],
             [
              0.6666666666666666,
              "#000017"
             ],
             [
              0.7777777777777778,
              "#000018"
             ],
             [
              0.8888888888888888,
              "#000019"
             ],
             [
              1,
              "#000020"
             ]
            ],
            "type": "contourcarpet"
           }
          ],
          "heatmap": [
           {
            "colorscale": [
             [
              0,
              "#000011"
             ],
             [
              0.1111111111111111,
              "#000012"
             ],
             [
              0.2222222222222222,
              "#000013"
             ],
             [
              0.3333333333333333,
              "#000014"
             ],
             [
              0.4444444444444444,
              "#000015"
             ],
             [
              0.5555555555555556,
              "#000016"
             ],
             [
              0.6666666666666666,
              "#000017"
             ],
             [
              0.7777777777777778,
              "#000018"
             ],
             [
              0.8888888888888888,
              "#000019"
             ],
             [
              1,
              "#000020"
             ]
            ],
            "type": "heatmap"
           }
          ],
          "histogram2d": [
           {
            "colorscale": [
             [
              0,
              "#000011"
             ],
             [
              0.1111111111111111,
              "#000012"
             ],
             [
              0.2222222222222222,
              "#000013"
             ],
             [
              0.3333333333333333,
              "#000014"
             ],
             [
              0.4444444444444444,
              "#000015"
             ],
             [
              0.5555555555555556,
              "#000016"
             ],
             [
              0.6666666666666666,
              "#000017"
             ],
             [
              0.7777777777777778,
              "#000018"
             ],
             [
              0.8888888888888888,
              "#000019"
             ],
             [
              1,
              "#000020"
             ]
            ],
            "type": "histogram2d"
           }
          ],
          "icicle": [
           {
            "textfont": {
             "color": "white"
            },
            "type": "icicle"
           }
          ],
          "sankey": [
           {
            "textfont": {
             "color": "#000036"
            },
            "type": "sankey"
           }
          ],
          "scatter": [
           {
            "marker": {
             "line": {
              "width": 0
             }
            },
            "type": "scatter"
           }
          ],
          "table": [
           {
            "cells": {
             "fill": {
              "color": "#000038"
             },
             "font": {
              "color": "#000037"
             },
             "line": {
              "color": "#000039"
             }
            },
            "header": {
             "fill": {
              "color": "#000040"
             },
             "font": {
              "color": "#000036"
             },
             "line": {
              "color": "#000039"
             }
            },
            "type": "table"
           }
          ],
          "waterfall": [
           {
            "connector": {
             "line": {
              "color": "#000036",
              "width": 2
             }
            },
            "decreasing": {
             "marker": {
              "color": "#000033"
             }
            },
            "increasing": {
             "marker": {
              "color": "#000032"
             }
            },
            "totals": {
             "marker": {
              "color": "#000034"
             }
            },
            "type": "waterfall"
           }
          ]
         },
         "layout": {
          "coloraxis": {
           "colorscale": [
            [
             0,
             "#000011"
            ],
            [
             0.1111111111111111,
             "#000012"
            ],
            [
             0.2222222222222222,
             "#000013"
            ],
            [
             0.3333333333333333,
             "#000014"
            ],
            [
             0.4444444444444444,
             "#000015"
            ],
            [
             0.5555555555555556,
             "#000016"
            ],
            [
             0.6666666666666666,
             "#000017"
            ],
            [
             0.7777777777777778,
             "#000018"
            ],
            [
             0.8888888888888888,
             "#000019"
            ],
            [
             1,
             "#000020"
            ]
           ]
          },
          "colorscale": {
           "diverging": [
            [
             0,
             "#000021"
            ],
            [
             0.1,
             "#000022"
            ],
            [
             0.2,
             "#000023"
            ],
            [
             0.3,
             "#000024"
            ],
            [
             0.4,
             "#000025"
            ],
            [
             0.5,
             "#000026"
            ],
            [
             0.6,
             "#000027"
            ],
            [
             0.7,
             "#000028"
            ],
            [
             0.8,
             "#000029"
            ],
            [
             0.9,
             "#000030"
            ],
            [
             1,
             "#000031"
            ]
           ],
           "sequential": [
            [
             0,
             "#000011"
            ],
            [
             0.1111111111111111,
             "#000012"
            ],
            [
             0.2222222222222222,
             "#000013"
            ],
            [
             0.3333333333333333,
             "#000014"
            ],
            [
             0.4444444444444444,
             "#000015"
            ],
            [
             0.5555555555555556,
             "#000016"
            ],
            [
             0.6666666666666666,
             "#000017"
            ],
            [
             0.7777777777777778,
             "#000018"
            ],
            [
             0.8888888888888888,
             "#000019"
            ],
            [
             1,
             "#000020"
            ]
           ],
           "sequentialminus": [
            [
             0,
             "#000011"
            ],
            [
             0.1111111111111111,
             "#000012"
            ],
            [
             0.2222222222222222,
             "#000013"
            ],
            [
             0.3333333333333333,
             "#000014"
            ],
            [
             0.4444444444444444,
             "#000015"
            ],
            [
             0.5555555555555556,
             "#000016"
            ],
            [
             0.6666666666666666,
             "#000017"
            ],
            [
             0.7777777777777778,
             "#000018"
            ],
            [
             0.8888888888888888,
             "#000019"
            ],
            [
             1,
             "#000020"
            ]
           ]
          },
          "colorway": [
           "#000001",
           "#000002",
           "#000003",
           "#000004",
           "#000005",
           "#000006",
           "#000007",
           "#000008",
           "#000009",
           "#000010"
          ]
         }
        },
        "title": {
         "text": "Average pose for alm"
        },
        "width": 1000,
        "xaxis": {
         "anchor": "y",
         "domain": [
          0,
          0.2125
         ]
        },
        "xaxis10": {
         "anchor": "y10",
         "domain": [
          0.2625,
          0.475
         ]
        },
        "xaxis11": {
         "anchor": "y11",
         "domain": [
          0.525,
          0.7375
         ]
        },
        "xaxis12": {
         "anchor": "y12",
         "domain": [
          0.7875,
          1
         ]
        },
        "xaxis13": {
         "anchor": "y13",
         "domain": [
          0,
          0.2125
         ]
        },
        "xaxis14": {
         "anchor": "y14",
         "domain": [
          0.2625,
          0.475
         ]
        },
        "xaxis15": {
         "anchor": "y15",
         "domain": [
          0.525,
          0.7375
         ]
        },
        "xaxis16": {
         "anchor": "y16",
         "domain": [
          0.7875,
          1
         ]
        },
        "xaxis2": {
         "anchor": "y2",
         "domain": [
          0.2625,
          0.475
         ]
        },
        "xaxis3": {
         "anchor": "y3",
         "domain": [
          0.525,
          0.7375
         ]
        },
        "xaxis4": {
         "anchor": "y4",
         "domain": [
          0.7875,
          1
         ]
        },
        "xaxis5": {
         "anchor": "y5",
         "domain": [
          0,
          0.2125
         ]
        },
        "xaxis6": {
         "anchor": "y6",
         "domain": [
          0.2625,
          0.475
         ]
        },
        "xaxis7": {
         "anchor": "y7",
         "domain": [
          0.525,
          0.7375
         ]
        },
        "xaxis8": {
         "anchor": "y8",
         "domain": [
          0.7875,
          1
         ]
        },
        "xaxis9": {
         "anchor": "y9",
         "domain": [
          0,
          0.2125
         ]
        },
        "yaxis": {
         "anchor": "x",
         "domain": [
          0.84375,
          1
         ],
         "range": [
          0,
          2000
         ]
        },
        "yaxis10": {
         "anchor": "x10",
         "domain": [
          0.28125,
          0.4375
         ],
         "range": [
          0,
          2000
         ]
        },
        "yaxis11": {
         "anchor": "x11",
         "domain": [
          0.28125,
          0.4375
         ],
         "range": [
          0,
          2000
         ]
        },
        "yaxis12": {
         "anchor": "x12",
         "domain": [
          0.28125,
          0.4375
         ],
         "range": [
          0,
          2000
         ]
        },
        "yaxis13": {
         "anchor": "x13",
         "domain": [
          0,
          0.15625
         ],
         "range": [
          0,
          2000
         ]
        },
        "yaxis14": {
         "anchor": "x14",
         "domain": [
          0,
          0.15625
         ]
        },
        "yaxis15": {
         "anchor": "x15",
         "domain": [
          0,
          0.15625
         ]
        },
        "yaxis16": {
         "anchor": "x16",
         "domain": [
          0,
          0.15625
         ]
        },
        "yaxis2": {
         "anchor": "x2",
         "domain": [
          0.84375,
          1
         ],
         "range": [
          0,
          2000
         ]
        },
        "yaxis3": {
         "anchor": "x3",
         "domain": [
          0.84375,
          1
         ],
         "range": [
          0,
          2000
         ]
        },
        "yaxis4": {
         "anchor": "x4",
         "domain": [
          0.84375,
          1
         ],
         "range": [
          0,
          2000
         ]
        },
        "yaxis5": {
         "anchor": "x5",
         "domain": [
          0.5625,
          0.71875
         ],
         "range": [
          0,
          2000
         ]
        },
        "yaxis6": {
         "anchor": "x6",
         "domain": [
          0.5625,
          0.71875
         ],
         "range": [
          0,
          2000
         ]
        },
        "yaxis7": {
         "anchor": "x7",
         "domain": [
          0.5625,
          0.71875
         ],
         "range": [
          0,
          2000
         ]
        },
        "yaxis8": {
         "anchor": "x8",
         "domain": [
          0.5625,
          0.71875
         ],
         "range": [
          0,
          2000
         ]
        },
        "yaxis9": {
         "anchor": "x9",
         "domain": [
          0.28125,
          0.4375
         ],
         "range": [
          0,
          2000
         ]
        }
       }
      }
     },
     "metadata": {},
     "output_type": "display_data"
    }
   ],
   "source": [
    "plot_mean_poses('alm')"
   ]
  },
  {
   "cell_type": "markdown",
   "metadata": {},
   "source": [
    "# Training the model"
   ]
  },
  {
   "cell_type": "code",
   "execution_count": 6,
   "metadata": {},
   "outputs": [],
   "source": [
    "X_train = pd.concat([DFS_X['van_cp'], DFS_X['bru_cp']])\n",
    "y_train = pd.concat([DFS_Y['van_cp'], DFS_Y['bru_cp']])\n",
    "y_train = recategorize_y(y_train)\n",
    "\n",
    "X_test = pd.concat([DFS_X['van_li'], DFS_X['bru_li']])\n",
    "y_test = pd.concat([DFS_Y['van_li'], DFS_Y['bru_li']])\n",
    "y_test = recategorize_y(y_test)\n",
    "\n",
    "X_almir = DFS_X['alm_cp']\n",
    "y_almir = recategorize_y(DFS_Y['alm_cp'])"
   ]
  },
  {
   "cell_type": "code",
   "execution_count": 7,
   "metadata": {},
   "outputs": [
    {
     "name": "stdout",
     "output_type": "stream",
     "text": [
      "Accuracy on train set:  0.9996884541092903\n",
      "Accuracy on test set:  0.9048131631554667\n",
      "Accuracy on Almir set:  0.752814873003404\n"
     ]
    }
   ],
   "source": [
    "clf = RandomForestClassifier(n_estimators=100, random_state=42)\n",
    "clf.fit(X_train, y_train)\n",
    "\n",
    "print('Accuracy on train set: ', accuracy_score(y_train, clf.predict(X_train)))\n",
    "print('Accuracy on test set: ', accuracy_score(y_test, clf.predict(X_test)))\n",
    "print('Accuracy on Almir set: ', accuracy_score(y_almir, clf.predict(X_almir)))"
   ]
  },
  {
   "cell_type": "markdown",
   "metadata": {},
   "source": [
    "# Training the model with a little glimpse on the user data"
   ]
  },
  {
   "cell_type": "code",
   "execution_count": 8,
   "metadata": {},
   "outputs": [],
   "source": [
    "X_almir = DFS_X['alm_cp']\n",
    "y_almir = DFS_Y['alm_cp']\n",
    "almir_train_X, almir_test_X, almir_train_y, almir_test_y = train_test_split(X_almir, y_almir, test_size=0.9, random_state=42)\n",
    "\n",
    "X_train = pd.concat([DFS_X['van_cp'], DFS_X['bru_cp'], almir_train_X])\n",
    "y_train = pd.concat([DFS_Y['van_cp'], DFS_Y['bru_cp'], almir_train_y])\n",
    "y_train = recategorize_y(y_train)\n",
    "\n",
    "X_test = pd.concat([DFS_X['van_li'], DFS_X['bru_li']])\n",
    "y_test = pd.concat([DFS_Y['van_li'], DFS_Y['bru_li']])\n",
    "y_test = recategorize_y(y_test)\n",
    "\n",
    "X_almir = almir_test_X\n",
    "y_almir = recategorize_y(almir_test_y)"
   ]
  },
  {
   "cell_type": "code",
   "execution_count": 9,
   "metadata": {},
   "outputs": [
    {
     "name": "stdout",
     "output_type": "stream",
     "text": [
      "Accuracy on train set:  0.9996348143639684\n",
      "Accuracy on test set:  0.8745194525603568\n",
      "Accuracy on Almir set:  0.9886561954624782\n"
     ]
    }
   ],
   "source": [
    "clf = RandomForestClassifier(n_estimators=100, random_state=42)\n",
    "clf.fit(X_train, y_train)\n",
    "\n",
    "print('Accuracy on train set: ', accuracy_score(y_train, clf.predict(X_train)))\n",
    "print('Accuracy on test set: ', accuracy_score(y_test, clf.predict(X_test)))\n",
    "print('Accuracy on Almir set: ', accuracy_score(y_almir, clf.predict(X_almir)))"
   ]
  },
  {
   "cell_type": "code",
   "execution_count": 10,
   "metadata": {},
   "outputs": [],
   "source": [
    "X_lag = DFS_X['lag_cp']\n",
    "y_lag = DFS_Y['lag_cp']\n",
    "lag_train_X, lag_test_X, lag_train_y, lag_test_y = train_test_split(X_lag, y_lag, test_size=0.9, random_state=42)\n",
    "\n",
    "X_train = pd.concat([DFS_X['van_cp'], DFS_X['bru_cp'], lag_train_X])\n",
    "y_train = pd.concat([DFS_Y['van_cp'], DFS_Y['bru_cp'], lag_train_y])\n",
    "y_train = recategorize_y(y_train)\n",
    "\n",
    "X_test = pd.concat([DFS_X['van_li'], DFS_X['bru_li']])\n",
    "y_test = pd.concat([DFS_Y['van_li'], DFS_Y['bru_li']])\n",
    "y_test = recategorize_y(y_test)\n",
    "\n",
    "X_lag = lag_test_X\n",
    "y_lag = recategorize_y(lag_test_y)"
   ]
  },
  {
   "cell_type": "code",
   "execution_count": 11,
   "metadata": {},
   "outputs": [
    {
     "name": "stdout",
     "output_type": "stream",
     "text": [
      "Accuracy on train set:  0.9995849146110057\n",
      "Accuracy on test set:  0.8954328771336306\n",
      "Accuracy on Lag Bem Comportado set:  0.9873279738383977\n"
     ]
    }
   ],
   "source": [
    "clf = RandomForestClassifier(n_estimators=100, random_state=42)\n",
    "clf.fit(X_train, y_train)\n",
    "\n",
    "print('Accuracy on train set: ', accuracy_score(y_train, clf.predict(X_train)))\n",
    "print('Accuracy on test set: ', accuracy_score(y_test, clf.predict(X_test)))\n",
    "print('Accuracy on Lag Bem Comportado set: ', accuracy_score(y_lag, clf.predict(X_lag)))"
   ]
  },
  {
   "cell_type": "code",
   "execution_count": 12,
   "metadata": {},
   "outputs": [
    {
     "name": "stdout",
     "output_type": "stream",
     "text": [
      "Accuracy on Lag Livre set:  0.6990728476821192\n"
     ]
    }
   ],
   "source": [
    "y_real = recategorize_y(DFS_Y['lag_li'])\n",
    "print(f'Accuracy on Lag Livre set: ', accuracy_score(y_real, clf.predict(DFS_X['lag_li'])))"
   ]
  },
  {
   "cell_type": "markdown",
   "metadata": {},
   "source": [
    "# Testing with retraining Random Forest\n",
    "- it did not worked, the old random forest was completely rewritten once the second fit was called"
   ]
  },
  {
   "cell_type": "code",
   "execution_count": 41,
   "metadata": {},
   "outputs": [],
   "source": [
    "# importing multilayer perceptron classifier from sklearn\n",
    "from sklearn.neural_network import MLPClassifier"
   ]
  },
  {
   "cell_type": "code",
   "execution_count": 60,
   "metadata": {},
   "outputs": [
    {
     "name": "stderr",
     "output_type": "stream",
     "text": [
      "c:\\Users\\lagua\\AppData\\Local\\Programs\\Python\\Python311\\Lib\\site-packages\\sklearn\\neural_network\\_multilayer_perceptron.py:684: ConvergenceWarning:\n",
      "\n",
      "Stochastic Optimizer: Maximum iterations (200) reached and the optimization hasn't converged yet.\n",
      "\n"
     ]
    },
    {
     "data": {
      "text/html": [
       "<style>#sk-container-id-15 {color: black;background-color: white;}#sk-container-id-15 pre{padding: 0;}#sk-container-id-15 div.sk-toggleable {background-color: white;}#sk-container-id-15 label.sk-toggleable__label {cursor: pointer;display: block;width: 100%;margin-bottom: 0;padding: 0.3em;box-sizing: border-box;text-align: center;}#sk-container-id-15 label.sk-toggleable__label-arrow:before {content: \"▸\";float: left;margin-right: 0.25em;color: #696969;}#sk-container-id-15 label.sk-toggleable__label-arrow:hover:before {color: black;}#sk-container-id-15 div.sk-estimator:hover label.sk-toggleable__label-arrow:before {color: black;}#sk-container-id-15 div.sk-toggleable__content {max-height: 0;max-width: 0;overflow: hidden;text-align: left;background-color: #f0f8ff;}#sk-container-id-15 div.sk-toggleable__content pre {margin: 0.2em;color: black;border-radius: 0.25em;background-color: #f0f8ff;}#sk-container-id-15 input.sk-toggleable__control:checked~div.sk-toggleable__content {max-height: 200px;max-width: 100%;overflow: auto;}#sk-container-id-15 input.sk-toggleable__control:checked~label.sk-toggleable__label-arrow:before {content: \"▾\";}#sk-container-id-15 div.sk-estimator input.sk-toggleable__control:checked~label.sk-toggleable__label {background-color: #d4ebff;}#sk-container-id-15 div.sk-label input.sk-toggleable__control:checked~label.sk-toggleable__label {background-color: #d4ebff;}#sk-container-id-15 input.sk-hidden--visually {border: 0;clip: rect(1px 1px 1px 1px);clip: rect(1px, 1px, 1px, 1px);height: 1px;margin: -1px;overflow: hidden;padding: 0;position: absolute;width: 1px;}#sk-container-id-15 div.sk-estimator {font-family: monospace;background-color: #f0f8ff;border: 1px dotted black;border-radius: 0.25em;box-sizing: border-box;margin-bottom: 0.5em;}#sk-container-id-15 div.sk-estimator:hover {background-color: #d4ebff;}#sk-container-id-15 div.sk-parallel-item::after {content: \"\";width: 100%;border-bottom: 1px solid gray;flex-grow: 1;}#sk-container-id-15 div.sk-label:hover label.sk-toggleable__label {background-color: #d4ebff;}#sk-container-id-15 div.sk-serial::before {content: \"\";position: absolute;border-left: 1px solid gray;box-sizing: border-box;top: 0;bottom: 0;left: 50%;z-index: 0;}#sk-container-id-15 div.sk-serial {display: flex;flex-direction: column;align-items: center;background-color: white;padding-right: 0.2em;padding-left: 0.2em;position: relative;}#sk-container-id-15 div.sk-item {position: relative;z-index: 1;}#sk-container-id-15 div.sk-parallel {display: flex;align-items: stretch;justify-content: center;background-color: white;position: relative;}#sk-container-id-15 div.sk-item::before, #sk-container-id-15 div.sk-parallel-item::before {content: \"\";position: absolute;border-left: 1px solid gray;box-sizing: border-box;top: 0;bottom: 0;left: 50%;z-index: -1;}#sk-container-id-15 div.sk-parallel-item {display: flex;flex-direction: column;z-index: 1;position: relative;background-color: white;}#sk-container-id-15 div.sk-parallel-item:first-child::after {align-self: flex-end;width: 50%;}#sk-container-id-15 div.sk-parallel-item:last-child::after {align-self: flex-start;width: 50%;}#sk-container-id-15 div.sk-parallel-item:only-child::after {width: 0;}#sk-container-id-15 div.sk-dashed-wrapped {border: 1px dashed gray;margin: 0 0.4em 0.5em 0.4em;box-sizing: border-box;padding-bottom: 0.4em;background-color: white;}#sk-container-id-15 div.sk-label label {font-family: monospace;font-weight: bold;display: inline-block;line-height: 1.2em;}#sk-container-id-15 div.sk-label-container {text-align: center;}#sk-container-id-15 div.sk-container {/* jupyter's `normalize.less` sets `[hidden] { display: none; }` but bootstrap.min.css set `[hidden] { display: none !important; }` so we also need the `!important` here to be able to override the default hidden behavior on the sphinx rendered scikit-learn.org. See: https://github.com/scikit-learn/scikit-learn/issues/21755 */display: inline-block !important;position: relative;}#sk-container-id-15 div.sk-text-repr-fallback {display: none;}</style><div id=\"sk-container-id-15\" class=\"sk-top-container\"><div class=\"sk-text-repr-fallback\"><pre>MLPClassifier(alpha=1e-05, hidden_layer_sizes=(5, 2), random_state=1)</pre><b>In a Jupyter environment, please rerun this cell to show the HTML representation or trust the notebook. <br />On GitHub, the HTML representation is unable to render, please try loading this page with nbviewer.org.</b></div><div class=\"sk-container\" hidden><div class=\"sk-item\"><div class=\"sk-estimator sk-toggleable\"><input class=\"sk-toggleable__control sk-hidden--visually\" id=\"sk-estimator-id-15\" type=\"checkbox\" checked><label for=\"sk-estimator-id-15\" class=\"sk-toggleable__label sk-toggleable__label-arrow\">MLPClassifier</label><div class=\"sk-toggleable__content\"><pre>MLPClassifier(alpha=1e-05, hidden_layer_sizes=(5, 2), random_state=1)</pre></div></div></div></div></div>"
      ],
      "text/plain": [
       "MLPClassifier(alpha=1e-05, hidden_layer_sizes=(5, 2), random_state=1)"
      ]
     },
     "execution_count": 60,
     "metadata": {},
     "output_type": "execute_result"
    }
   ],
   "source": [
    "model = MLPClassifier(solver='adam', alpha=1e-5, hidden_layer_sizes=(5, 2), random_state=1)\n",
    "\n",
    "X_dummy = [[0, 0], [1, 1], [2, 2], [3, 3], [4, 4]]\n",
    "y_dummy = [0, 0, 1, 1, 1]\n",
    "\n",
    "model.fit(X_dummy, y_dummy)"
   ]
  },
  {
   "cell_type": "code",
   "execution_count": 61,
   "metadata": {},
   "outputs": [
    {
     "name": "stdout",
     "output_type": "stream",
     "text": [
      "[0, 0] >>> [0]\n",
      "[1, 1] >>> [0]\n",
      "[2, 2] >>> [1]\n",
      "[3, 3] >>> [1]\n",
      "[4, 4] >>> [1]\n",
      "[5, 5] >>> [1]\n"
     ]
    }
   ],
   "source": [
    "for i in range(6):\n",
    "    x = [i, i]\n",
    "    print(x, end=' >>> ')\n",
    "    print(model.predict([x]))"
   ]
  },
  {
   "cell_type": "code",
   "execution_count": 78,
   "metadata": {},
   "outputs": [],
   "source": [
    "for i in range(10):\n",
    "    model.partial_fit([[2, 2]], [0])"
   ]
  },
  {
   "cell_type": "code",
   "execution_count": 79,
   "metadata": {},
   "outputs": [
    {
     "name": "stdout",
     "output_type": "stream",
     "text": [
      "[0, 0] >>> [0]\n",
      "[1, 1] >>> [0]\n",
      "[2, 2] >>> [0]\n",
      "[3, 3] >>> [1]\n",
      "[4, 4] >>> [1]\n",
      "[5, 5] >>> [1]\n"
     ]
    }
   ],
   "source": [
    "for i in range(6):\n",
    "    x = [i, i]\n",
    "    print(x, end=' >>> ')\n",
    "    print(model.predict([x]))"
   ]
  }
 ],
 "metadata": {
  "kernelspec": {
   "display_name": "Python 3",
   "language": "python",
   "name": "python3"
  },
  "language_info": {
   "codemirror_mode": {
    "name": "ipython",
    "version": 3
   },
   "file_extension": ".py",
   "mimetype": "text/x-python",
   "name": "python",
   "nbconvert_exporter": "python",
   "pygments_lexer": "ipython3",
   "version": "3.11.1"
  },
  "orig_nbformat": 4
 },
 "nbformat": 4,
 "nbformat_minor": 2
}
