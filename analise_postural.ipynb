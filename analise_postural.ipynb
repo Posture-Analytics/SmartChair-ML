{
 "cells": [
  {
   "cell_type": "code",
   "execution_count": 1,
   "metadata": {},
   "outputs": [],
   "source": [
    "import datetime\n",
    "import pandas as pd\n",
    "import numpy as np\n",
    "import plotly.express as px\n",
    "import plotly.graph_objects as go\n",
    "from plotly.subplots import make_subplots\n",
    "from sklearn.decomposition import PCA\n",
    "\n",
    "# ===== Data ===== #\n",
    "DFS = {\n",
    "    'lag_cp' : pd.read_csv('data/bem_comportadas_laguardia.csv'),\n",
    "    'lag_li' : pd.read_csv('data/livres_laguardia.csv'),\n",
    "    'van_cp' : pd.read_csv('data/bem_comportadas_vanessa.csv'),\n",
    "    'van_li' : pd.read_csv('data/livres_vanessa.csv'),\n",
    "    'bru_cp' : pd.read_csv('data/bem_comportadas_bruno.csv'),\n",
    "    'bru_li' : pd.read_csv('data/livres_bruno.csv'),\n",
    "    'alm_cp' : pd.read_csv('data/bem_comportadas_almir.csv'),\n",
    "}"
   ]
  },
  {
   "cell_type": "markdown",
   "metadata": {},
   "source": [
    "---\n",
    "## Identificando o momento de cada pose\n",
    "---"
   ]
  },
  {
   "cell_type": "code",
   "execution_count": null,
   "metadata": {},
   "outputs": [],
   "source": [
    "for key, df in DFS.items():\n",
    "    # add a fake column for timestamp\n",
    "    df['timestamp'] = pd.date_range(start='1/1/2023', periods=df.shape[0], freq='500L')"
   ]
  },
  {
   "cell_type": "code",
   "execution_count": 13,
   "metadata": {},
   "outputs": [],
   "source": [
    "# Transform the data into a df of poses and durations\n",
    "DFS_POSES_DURATIONS = {}\n",
    "\n",
    "for key, df in DFS.items():\n",
    "    this_df_dict = {}\n",
    "    this_pose = -1\n",
    "    pose_count = 0\n",
    "    # iterate over the rows of the dataframe\n",
    "    for index, row in df.iterrows():\n",
    "        # get the pose\n",
    "        pose = row['pose']\n",
    "        # if the pose is different from the previous one\n",
    "        if pose != this_pose:\n",
    "            # increase the pose count\n",
    "            pose_count += 1\n",
    "            # update the pose\n",
    "            this_pose = pose\n",
    "            # add the pose to the dict\n",
    "            this_df_dict[f'p:{pose},c:{pose_count}'] = {\n",
    "                'pose' : pose,\n",
    "                'start' : row['timestamp'],\n",
    "                'end' : row['timestamp'],\n",
    "            }\n",
    "        else:\n",
    "            # update the end of the pose\n",
    "            this_df_dict[f'p:{pose},c:{pose_count}']['end'] = row['timestamp']\n",
    "    # create a dataframe from the dict\n",
    "    dfs = pd.DataFrame.from_dict(this_df_dict, orient='index')\n",
    "    # save the dataframe\n",
    "    DFS_POSES_DURATIONS[key] = dfs"
   ]
  },
  {
   "cell_type": "code",
   "execution_count": 56,
   "metadata": {},
   "outputs": [
    {
     "data": {
      "text/html": [
       "<div>\n",
       "<style scoped>\n",
       "    .dataframe tbody tr th:only-of-type {\n",
       "        vertical-align: middle;\n",
       "    }\n",
       "\n",
       "    .dataframe tbody tr th {\n",
       "        vertical-align: top;\n",
       "    }\n",
       "\n",
       "    .dataframe thead th {\n",
       "        text-align: right;\n",
       "    }\n",
       "</style>\n",
       "<table border=\"1\" class=\"dataframe\">\n",
       "  <thead>\n",
       "    <tr style=\"text-align: right;\">\n",
       "      <th></th>\n",
       "      <th>pose</th>\n",
       "      <th>start</th>\n",
       "      <th>end</th>\n",
       "    </tr>\n",
       "  </thead>\n",
       "  <tbody>\n",
       "    <tr>\n",
       "      <th>p:2,c:1</th>\n",
       "      <td>2</td>\n",
       "      <td>2023-01-01 00:00:00</td>\n",
       "      <td>2023-01-01 00:03:03.500</td>\n",
       "    </tr>\n",
       "    <tr>\n",
       "      <th>p:1,c:2</th>\n",
       "      <td>1</td>\n",
       "      <td>2023-01-01 00:03:04</td>\n",
       "      <td>2023-01-01 00:06:28.500</td>\n",
       "    </tr>\n",
       "    <tr>\n",
       "      <th>p:2,c:3</th>\n",
       "      <td>2</td>\n",
       "      <td>2023-01-01 00:06:29</td>\n",
       "      <td>2023-01-01 00:06:31.500</td>\n",
       "    </tr>\n",
       "    <tr>\n",
       "      <th>p:3,c:4</th>\n",
       "      <td>3</td>\n",
       "      <td>2023-01-01 00:06:32</td>\n",
       "      <td>2023-01-01 00:09:36.500</td>\n",
       "    </tr>\n",
       "    <tr>\n",
       "      <th>p:1,c:5</th>\n",
       "      <td>1</td>\n",
       "      <td>2023-01-01 00:09:37</td>\n",
       "      <td>2023-01-01 00:09:38.500</td>\n",
       "    </tr>\n",
       "    <tr>\n",
       "      <th>p:7,c:6</th>\n",
       "      <td>7</td>\n",
       "      <td>2023-01-01 00:09:39</td>\n",
       "      <td>2023-01-01 00:13:24.500</td>\n",
       "    </tr>\n",
       "    <tr>\n",
       "      <th>p:0,c:7</th>\n",
       "      <td>0</td>\n",
       "      <td>2023-01-01 00:13:25</td>\n",
       "      <td>2023-01-01 00:13:25.500</td>\n",
       "    </tr>\n",
       "    <tr>\n",
       "      <th>p:1,c:8</th>\n",
       "      <td>1</td>\n",
       "      <td>2023-01-01 00:13:26</td>\n",
       "      <td>2023-01-01 00:13:26.500</td>\n",
       "    </tr>\n",
       "    <tr>\n",
       "      <th>p:8,c:9</th>\n",
       "      <td>8</td>\n",
       "      <td>2023-01-01 00:13:27</td>\n",
       "      <td>2023-01-01 00:16:06.500</td>\n",
       "    </tr>\n",
       "    <tr>\n",
       "      <th>p:12,c:10</th>\n",
       "      <td>12</td>\n",
       "      <td>2023-01-01 00:16:07</td>\n",
       "      <td>2023-01-01 00:16:08.500</td>\n",
       "    </tr>\n",
       "    <tr>\n",
       "      <th>p:8,c:11</th>\n",
       "      <td>8</td>\n",
       "      <td>2023-01-01 00:16:09</td>\n",
       "      <td>2023-01-01 00:17:37.500</td>\n",
       "    </tr>\n",
       "    <tr>\n",
       "      <th>p:1,c:12</th>\n",
       "      <td>1</td>\n",
       "      <td>2023-01-01 00:17:38</td>\n",
       "      <td>2023-01-01 00:19:31.500</td>\n",
       "    </tr>\n",
       "    <tr>\n",
       "      <th>p:7,c:13</th>\n",
       "      <td>7</td>\n",
       "      <td>2023-01-01 00:19:32</td>\n",
       "      <td>2023-01-01 00:22:24.500</td>\n",
       "    </tr>\n",
       "    <tr>\n",
       "      <th>p:0,c:14</th>\n",
       "      <td>0</td>\n",
       "      <td>2023-01-01 00:22:25</td>\n",
       "      <td>2023-01-01 00:22:26.500</td>\n",
       "    </tr>\n",
       "    <tr>\n",
       "      <th>p:1,c:15</th>\n",
       "      <td>1</td>\n",
       "      <td>2023-01-01 00:22:27</td>\n",
       "      <td>2023-01-01 00:22:50.500</td>\n",
       "    </tr>\n",
       "  </tbody>\n",
       "</table>\n",
       "</div>"
      ],
      "text/plain": [
       "           pose               start                     end\n",
       "p:2,c:1       2 2023-01-01 00:00:00 2023-01-01 00:03:03.500\n",
       "p:1,c:2       1 2023-01-01 00:03:04 2023-01-01 00:06:28.500\n",
       "p:2,c:3       2 2023-01-01 00:06:29 2023-01-01 00:06:31.500\n",
       "p:3,c:4       3 2023-01-01 00:06:32 2023-01-01 00:09:36.500\n",
       "p:1,c:5       1 2023-01-01 00:09:37 2023-01-01 00:09:38.500\n",
       "p:7,c:6       7 2023-01-01 00:09:39 2023-01-01 00:13:24.500\n",
       "p:0,c:7       0 2023-01-01 00:13:25 2023-01-01 00:13:25.500\n",
       "p:1,c:8       1 2023-01-01 00:13:26 2023-01-01 00:13:26.500\n",
       "p:8,c:9       8 2023-01-01 00:13:27 2023-01-01 00:16:06.500\n",
       "p:12,c:10    12 2023-01-01 00:16:07 2023-01-01 00:16:08.500\n",
       "p:8,c:11      8 2023-01-01 00:16:09 2023-01-01 00:17:37.500\n",
       "p:1,c:12      1 2023-01-01 00:17:38 2023-01-01 00:19:31.500\n",
       "p:7,c:13      7 2023-01-01 00:19:32 2023-01-01 00:22:24.500\n",
       "p:0,c:14      0 2023-01-01 00:22:25 2023-01-01 00:22:26.500\n",
       "p:1,c:15      1 2023-01-01 00:22:27 2023-01-01 00:22:50.500"
      ]
     },
     "execution_count": 56,
     "metadata": {},
     "output_type": "execute_result"
    }
   ],
   "source": [
    "DFS_POSES_DURATIONS['bru_li']"
   ]
  },
  {
   "cell_type": "code",
   "execution_count": 55,
   "metadata": {},
   "outputs": [
    {
     "data": {
      "application/vnd.plotly.v1+json": {
       "config": {
        "plotlyServerURL": "https://plot.ly"
       },
       "data": [
        {
         "alignmentgroup": "True",
         "base": [
          "2023-01-01T00:00:00",
          "2023-01-01T00:03:04",
          "2023-01-01T00:06:29",
          "2023-01-01T00:06:32",
          "2023-01-01T00:09:37",
          "2023-01-01T00:09:39",
          "2023-01-01T00:13:25",
          "2023-01-01T00:13:26",
          "2023-01-01T00:13:27",
          "2023-01-01T00:16:07",
          "2023-01-01T00:16:09",
          "2023-01-01T00:17:38",
          "2023-01-01T00:19:32",
          "2023-01-01T00:22:25",
          "2023-01-01T00:22:27"
         ],
         "hovertemplate": "start=%{base}<br>end=%{x}<br>pose=%{marker.color}<extra></extra>",
         "legendgroup": "",
         "marker": {
          "color": [
           2,
           1,
           2,
           3,
           1,
           7,
           0,
           1,
           8,
           12,
           8,
           1,
           7,
           0,
           1
          ],
          "coloraxis": "coloraxis",
          "pattern": {
           "shape": ""
          }
         },
         "name": "",
         "offsetgroup": "",
         "orientation": "h",
         "showlegend": false,
         "textposition": "auto",
         "type": "bar",
         "x": [
          183500,
          204500,
          2500,
          184500,
          1500,
          225500,
          500,
          500,
          159500,
          1500,
          88500,
          113500,
          172500,
          1500,
          23500
         ],
         "xaxis": "x",
         "y": [
          2,
          1,
          2,
          3,
          1,
          7,
          0,
          1,
          8,
          12,
          8,
          1,
          7,
          0,
          1
         ],
         "yaxis": "y"
        }
       ],
       "layout": {
        "barmode": "overlay",
        "coloraxis": {
         "colorbar": {
          "title": {
           "text": "pose"
          }
         },
         "colorscale": [
          [
           0,
           "#0d0887"
          ],
          [
           0.1111111111111111,
           "#46039f"
          ],
          [
           0.2222222222222222,
           "#7201a8"
          ],
          [
           0.3333333333333333,
           "#9c179e"
          ],
          [
           0.4444444444444444,
           "#bd3786"
          ],
          [
           0.5555555555555556,
           "#d8576b"
          ],
          [
           0.6666666666666666,
           "#ed7953"
          ],
          [
           0.7777777777777778,
           "#fb9f3a"
          ],
          [
           0.8888888888888888,
           "#fdca26"
          ],
          [
           1,
           "#f0f921"
          ]
         ]
        },
        "legend": {
         "tracegroupgap": 0
        },
        "margin": {
         "t": 60
        },
        "template": {
         "data": {
          "bar": [
           {
            "error_x": {
             "color": "#2a3f5f"
            },
            "error_y": {
             "color": "#2a3f5f"
            },
            "marker": {
             "line": {
              "color": "#E5ECF6",
              "width": 0.5
             },
             "pattern": {
              "fillmode": "overlay",
              "size": 10,
              "solidity": 0.2
             }
            },
            "type": "bar"
           }
          ],
          "barpolar": [
           {
            "marker": {
             "line": {
              "color": "#E5ECF6",
              "width": 0.5
             },
             "pattern": {
              "fillmode": "overlay",
              "size": 10,
              "solidity": 0.2
             }
            },
            "type": "barpolar"
           }
          ],
          "carpet": [
           {
            "aaxis": {
             "endlinecolor": "#2a3f5f",
             "gridcolor": "white",
             "linecolor": "white",
             "minorgridcolor": "white",
             "startlinecolor": "#2a3f5f"
            },
            "baxis": {
             "endlinecolor": "#2a3f5f",
             "gridcolor": "white",
             "linecolor": "white",
             "minorgridcolor": "white",
             "startlinecolor": "#2a3f5f"
            },
            "type": "carpet"
           }
          ],
          "choropleth": [
           {
            "colorbar": {
             "outlinewidth": 0,
             "ticks": ""
            },
            "type": "choropleth"
           }
          ],
          "contour": [
           {
            "colorbar": {
             "outlinewidth": 0,
             "ticks": ""
            },
            "colorscale": [
             [
              0,
              "#0d0887"
             ],
             [
              0.1111111111111111,
              "#46039f"
             ],
             [
              0.2222222222222222,
              "#7201a8"
             ],
             [
              0.3333333333333333,
              "#9c179e"
             ],
             [
              0.4444444444444444,
              "#bd3786"
             ],
             [
              0.5555555555555556,
              "#d8576b"
             ],
             [
              0.6666666666666666,
              "#ed7953"
             ],
             [
              0.7777777777777778,
              "#fb9f3a"
             ],
             [
              0.8888888888888888,
              "#fdca26"
             ],
             [
              1,
              "#f0f921"
             ]
            ],
            "type": "contour"
           }
          ],
          "contourcarpet": [
           {
            "colorbar": {
             "outlinewidth": 0,
             "ticks": ""
            },
            "type": "contourcarpet"
           }
          ],
          "heatmap": [
           {
            "colorbar": {
             "outlinewidth": 0,
             "ticks": ""
            },
            "colorscale": [
             [
              0,
              "#0d0887"
             ],
             [
              0.1111111111111111,
              "#46039f"
             ],
             [
              0.2222222222222222,
              "#7201a8"
             ],
             [
              0.3333333333333333,
              "#9c179e"
             ],
             [
              0.4444444444444444,
              "#bd3786"
             ],
             [
              0.5555555555555556,
              "#d8576b"
             ],
             [
              0.6666666666666666,
              "#ed7953"
             ],
             [
              0.7777777777777778,
              "#fb9f3a"
             ],
             [
              0.8888888888888888,
              "#fdca26"
             ],
             [
              1,
              "#f0f921"
             ]
            ],
            "type": "heatmap"
           }
          ],
          "heatmapgl": [
           {
            "colorbar": {
             "outlinewidth": 0,
             "ticks": ""
            },
            "colorscale": [
             [
              0,
              "#0d0887"
             ],
             [
              0.1111111111111111,
              "#46039f"
             ],
             [
              0.2222222222222222,
              "#7201a8"
             ],
             [
              0.3333333333333333,
              "#9c179e"
             ],
             [
              0.4444444444444444,
              "#bd3786"
             ],
             [
              0.5555555555555556,
              "#d8576b"
             ],
             [
              0.6666666666666666,
              "#ed7953"
             ],
             [
              0.7777777777777778,
              "#fb9f3a"
             ],
             [
              0.8888888888888888,
              "#fdca26"
             ],
             [
              1,
              "#f0f921"
             ]
            ],
            "type": "heatmapgl"
           }
          ],
          "histogram": [
           {
            "marker": {
             "pattern": {
              "fillmode": "overlay",
              "size": 10,
              "solidity": 0.2
             }
            },
            "type": "histogram"
           }
          ],
          "histogram2d": [
           {
            "colorbar": {
             "outlinewidth": 0,
             "ticks": ""
            },
            "colorscale": [
             [
              0,
              "#0d0887"
             ],
             [
              0.1111111111111111,
              "#46039f"
             ],
             [
              0.2222222222222222,
              "#7201a8"
             ],
             [
              0.3333333333333333,
              "#9c179e"
             ],
             [
              0.4444444444444444,
              "#bd3786"
             ],
             [
              0.5555555555555556,
              "#d8576b"
             ],
             [
              0.6666666666666666,
              "#ed7953"
             ],
             [
              0.7777777777777778,
              "#fb9f3a"
             ],
             [
              0.8888888888888888,
              "#fdca26"
             ],
             [
              1,
              "#f0f921"
             ]
            ],
            "type": "histogram2d"
           }
          ],
          "histogram2dcontour": [
           {
            "colorbar": {
             "outlinewidth": 0,
             "ticks": ""
            },
            "colorscale": [
             [
              0,
              "#0d0887"
             ],
             [
              0.1111111111111111,
              "#46039f"
             ],
             [
              0.2222222222222222,
              "#7201a8"
             ],
             [
              0.3333333333333333,
              "#9c179e"
             ],
             [
              0.4444444444444444,
              "#bd3786"
             ],
             [
              0.5555555555555556,
              "#d8576b"
             ],
             [
              0.6666666666666666,
              "#ed7953"
             ],
             [
              0.7777777777777778,
              "#fb9f3a"
             ],
             [
              0.8888888888888888,
              "#fdca26"
             ],
             [
              1,
              "#f0f921"
             ]
            ],
            "type": "histogram2dcontour"
           }
          ],
          "mesh3d": [
           {
            "colorbar": {
             "outlinewidth": 0,
             "ticks": ""
            },
            "type": "mesh3d"
           }
          ],
          "parcoords": [
           {
            "line": {
             "colorbar": {
              "outlinewidth": 0,
              "ticks": ""
             }
            },
            "type": "parcoords"
           }
          ],
          "pie": [
           {
            "automargin": true,
            "type": "pie"
           }
          ],
          "scatter": [
           {
            "fillpattern": {
             "fillmode": "overlay",
             "size": 10,
             "solidity": 0.2
            },
            "type": "scatter"
           }
          ],
          "scatter3d": [
           {
            "line": {
             "colorbar": {
              "outlinewidth": 0,
              "ticks": ""
             }
            },
            "marker": {
             "colorbar": {
              "outlinewidth": 0,
              "ticks": ""
             }
            },
            "type": "scatter3d"
           }
          ],
          "scattercarpet": [
           {
            "marker": {
             "colorbar": {
              "outlinewidth": 0,
              "ticks": ""
             }
            },
            "type": "scattercarpet"
           }
          ],
          "scattergeo": [
           {
            "marker": {
             "colorbar": {
              "outlinewidth": 0,
              "ticks": ""
             }
            },
            "type": "scattergeo"
           }
          ],
          "scattergl": [
           {
            "marker": {
             "colorbar": {
              "outlinewidth": 0,
              "ticks": ""
             }
            },
            "type": "scattergl"
           }
          ],
          "scattermapbox": [
           {
            "marker": {
             "colorbar": {
              "outlinewidth": 0,
              "ticks": ""
             }
            },
            "type": "scattermapbox"
           }
          ],
          "scatterpolar": [
           {
            "marker": {
             "colorbar": {
              "outlinewidth": 0,
              "ticks": ""
             }
            },
            "type": "scatterpolar"
           }
          ],
          "scatterpolargl": [
           {
            "marker": {
             "colorbar": {
              "outlinewidth": 0,
              "ticks": ""
             }
            },
            "type": "scatterpolargl"
           }
          ],
          "scatterternary": [
           {
            "marker": {
             "colorbar": {
              "outlinewidth": 0,
              "ticks": ""
             }
            },
            "type": "scatterternary"
           }
          ],
          "surface": [
           {
            "colorbar": {
             "outlinewidth": 0,
             "ticks": ""
            },
            "colorscale": [
             [
              0,
              "#0d0887"
             ],
             [
              0.1111111111111111,
              "#46039f"
             ],
             [
              0.2222222222222222,
              "#7201a8"
             ],
             [
              0.3333333333333333,
              "#9c179e"
             ],
             [
              0.4444444444444444,
              "#bd3786"
             ],
             [
              0.5555555555555556,
              "#d8576b"
             ],
             [
              0.6666666666666666,
              "#ed7953"
             ],
             [
              0.7777777777777778,
              "#fb9f3a"
             ],
             [
              0.8888888888888888,
              "#fdca26"
             ],
             [
              1,
              "#f0f921"
             ]
            ],
            "type": "surface"
           }
          ],
          "table": [
           {
            "cells": {
             "fill": {
              "color": "#EBF0F8"
             },
             "line": {
              "color": "white"
             }
            },
            "header": {
             "fill": {
              "color": "#C8D4E3"
             },
             "line": {
              "color": "white"
             }
            },
            "type": "table"
           }
          ]
         },
         "layout": {
          "annotationdefaults": {
           "arrowcolor": "#2a3f5f",
           "arrowhead": 0,
           "arrowwidth": 1
          },
          "autotypenumbers": "strict",
          "coloraxis": {
           "colorbar": {
            "outlinewidth": 0,
            "ticks": ""
           }
          },
          "colorscale": {
           "diverging": [
            [
             0,
             "#8e0152"
            ],
            [
             0.1,
             "#c51b7d"
            ],
            [
             0.2,
             "#de77ae"
            ],
            [
             0.3,
             "#f1b6da"
            ],
            [
             0.4,
             "#fde0ef"
            ],
            [
             0.5,
             "#f7f7f7"
            ],
            [
             0.6,
             "#e6f5d0"
            ],
            [
             0.7,
             "#b8e186"
            ],
            [
             0.8,
             "#7fbc41"
            ],
            [
             0.9,
             "#4d9221"
            ],
            [
             1,
             "#276419"
            ]
           ],
           "sequential": [
            [
             0,
             "#0d0887"
            ],
            [
             0.1111111111111111,
             "#46039f"
            ],
            [
             0.2222222222222222,
             "#7201a8"
            ],
            [
             0.3333333333333333,
             "#9c179e"
            ],
            [
             0.4444444444444444,
             "#bd3786"
            ],
            [
             0.5555555555555556,
             "#d8576b"
            ],
            [
             0.6666666666666666,
             "#ed7953"
            ],
            [
             0.7777777777777778,
             "#fb9f3a"
            ],
            [
             0.8888888888888888,
             "#fdca26"
            ],
            [
             1,
             "#f0f921"
            ]
           ],
           "sequentialminus": [
            [
             0,
             "#0d0887"
            ],
            [
             0.1111111111111111,
             "#46039f"
            ],
            [
             0.2222222222222222,
             "#7201a8"
            ],
            [
             0.3333333333333333,
             "#9c179e"
            ],
            [
             0.4444444444444444,
             "#bd3786"
            ],
            [
             0.5555555555555556,
             "#d8576b"
            ],
            [
             0.6666666666666666,
             "#ed7953"
            ],
            [
             0.7777777777777778,
             "#fb9f3a"
            ],
            [
             0.8888888888888888,
             "#fdca26"
            ],
            [
             1,
             "#f0f921"
            ]
           ]
          },
          "colorway": [
           "#636efa",
           "#EF553B",
           "#00cc96",
           "#ab63fa",
           "#FFA15A",
           "#19d3f3",
           "#FF6692",
           "#B6E880",
           "#FF97FF",
           "#FECB52"
          ],
          "font": {
           "color": "#2a3f5f"
          },
          "geo": {
           "bgcolor": "white",
           "lakecolor": "white",
           "landcolor": "#E5ECF6",
           "showlakes": true,
           "showland": true,
           "subunitcolor": "white"
          },
          "hoverlabel": {
           "align": "left"
          },
          "hovermode": "closest",
          "mapbox": {
           "style": "light"
          },
          "paper_bgcolor": "white",
          "plot_bgcolor": "#E5ECF6",
          "polar": {
           "angularaxis": {
            "gridcolor": "white",
            "linecolor": "white",
            "ticks": ""
           },
           "bgcolor": "#E5ECF6",
           "radialaxis": {
            "gridcolor": "white",
            "linecolor": "white",
            "ticks": ""
           }
          },
          "scene": {
           "xaxis": {
            "backgroundcolor": "#E5ECF6",
            "gridcolor": "white",
            "gridwidth": 2,
            "linecolor": "white",
            "showbackground": true,
            "ticks": "",
            "zerolinecolor": "white"
           },
           "yaxis": {
            "backgroundcolor": "#E5ECF6",
            "gridcolor": "white",
            "gridwidth": 2,
            "linecolor": "white",
            "showbackground": true,
            "ticks": "",
            "zerolinecolor": "white"
           },
           "zaxis": {
            "backgroundcolor": "#E5ECF6",
            "gridcolor": "white",
            "gridwidth": 2,
            "linecolor": "white",
            "showbackground": true,
            "ticks": "",
            "zerolinecolor": "white"
           }
          },
          "shapedefaults": {
           "line": {
            "color": "#2a3f5f"
           }
          },
          "ternary": {
           "aaxis": {
            "gridcolor": "white",
            "linecolor": "white",
            "ticks": ""
           },
           "baxis": {
            "gridcolor": "white",
            "linecolor": "white",
            "ticks": ""
           },
           "bgcolor": "#E5ECF6",
           "caxis": {
            "gridcolor": "white",
            "linecolor": "white",
            "ticks": ""
           }
          },
          "title": {
           "x": 0.05
          },
          "xaxis": {
           "automargin": true,
           "gridcolor": "white",
           "linecolor": "white",
           "ticks": "",
           "title": {
            "standoff": 15
           },
           "zerolinecolor": "white",
           "zerolinewidth": 2
          },
          "yaxis": {
           "automargin": true,
           "gridcolor": "white",
           "linecolor": "white",
           "ticks": "",
           "title": {
            "standoff": 15
           },
           "zerolinecolor": "white",
           "zerolinewidth": 2
          }
         }
        },
        "xaxis": {
         "anchor": "y",
         "domain": [
          0,
          1
         ],
         "type": "date"
        },
        "yaxis": {
         "anchor": "x",
         "domain": [
          0,
          1
         ],
         "title": {
          "text": "pose"
         }
        }
       }
      }
     },
     "metadata": {},
     "output_type": "display_data"
    }
   ],
   "source": [
    "px.timeline(DFS_POSES_DURATIONS['bru_li'],\n",
    "            x_start='start',\n",
    "            x_end='end',\n",
    "            y='pose',\n",
    "            color='pose')"
   ]
  },
  {
   "cell_type": "markdown",
   "metadata": {},
   "source": [
    "---\n",
    "## Comparando dois momentos diferentes da mesma pose\n",
    "---"
   ]
  },
  {
   "cell_type": "code",
   "execution_count": 21,
   "metadata": {},
   "outputs": [
    {
     "data": {
      "text/html": [
       "<div>\n",
       "<style scoped>\n",
       "    .dataframe tbody tr th:only-of-type {\n",
       "        vertical-align: middle;\n",
       "    }\n",
       "\n",
       "    .dataframe tbody tr th {\n",
       "        vertical-align: top;\n",
       "    }\n",
       "\n",
       "    .dataframe thead th {\n",
       "        text-align: right;\n",
       "    }\n",
       "</style>\n",
       "<table border=\"1\" class=\"dataframe\">\n",
       "  <thead>\n",
       "    <tr style=\"text-align: right;\">\n",
       "      <th></th>\n",
       "      <th>p00</th>\n",
       "      <th>p01</th>\n",
       "      <th>p02</th>\n",
       "      <th>p03</th>\n",
       "      <th>p04</th>\n",
       "      <th>p05</th>\n",
       "      <th>p06</th>\n",
       "      <th>p07</th>\n",
       "      <th>p08</th>\n",
       "      <th>p09</th>\n",
       "      <th>p10</th>\n",
       "      <th>p11</th>\n",
       "      <th>pose</th>\n",
       "      <th>timestamp</th>\n",
       "    </tr>\n",
       "  </thead>\n",
       "  <tbody>\n",
       "    <tr>\n",
       "      <th>0</th>\n",
       "      <td>0</td>\n",
       "      <td>0</td>\n",
       "      <td>0</td>\n",
       "      <td>0</td>\n",
       "      <td>953</td>\n",
       "      <td>1203</td>\n",
       "      <td>228</td>\n",
       "      <td>4018</td>\n",
       "      <td>778</td>\n",
       "      <td>484</td>\n",
       "      <td>237</td>\n",
       "      <td>904</td>\n",
       "      <td>3</td>\n",
       "      <td>2023-01-01 00:00:00.000</td>\n",
       "    </tr>\n",
       "    <tr>\n",
       "      <th>1</th>\n",
       "      <td>0</td>\n",
       "      <td>0</td>\n",
       "      <td>0</td>\n",
       "      <td>0</td>\n",
       "      <td>989</td>\n",
       "      <td>1227</td>\n",
       "      <td>243</td>\n",
       "      <td>4019</td>\n",
       "      <td>875</td>\n",
       "      <td>538</td>\n",
       "      <td>310</td>\n",
       "      <td>947</td>\n",
       "      <td>3</td>\n",
       "      <td>2023-01-01 00:00:00.500</td>\n",
       "    </tr>\n",
       "    <tr>\n",
       "      <th>2</th>\n",
       "      <td>0</td>\n",
       "      <td>0</td>\n",
       "      <td>0</td>\n",
       "      <td>0</td>\n",
       "      <td>986</td>\n",
       "      <td>1210</td>\n",
       "      <td>242</td>\n",
       "      <td>4028</td>\n",
       "      <td>863</td>\n",
       "      <td>532</td>\n",
       "      <td>303</td>\n",
       "      <td>940</td>\n",
       "      <td>3</td>\n",
       "      <td>2023-01-01 00:00:01.000</td>\n",
       "    </tr>\n",
       "    <tr>\n",
       "      <th>3</th>\n",
       "      <td>0</td>\n",
       "      <td>0</td>\n",
       "      <td>0</td>\n",
       "      <td>0</td>\n",
       "      <td>989</td>\n",
       "      <td>1232</td>\n",
       "      <td>245</td>\n",
       "      <td>4019</td>\n",
       "      <td>889</td>\n",
       "      <td>556</td>\n",
       "      <td>302</td>\n",
       "      <td>955</td>\n",
       "      <td>3</td>\n",
       "      <td>2023-01-01 00:00:01.500</td>\n",
       "    </tr>\n",
       "    <tr>\n",
       "      <th>4</th>\n",
       "      <td>0</td>\n",
       "      <td>0</td>\n",
       "      <td>0</td>\n",
       "      <td>0</td>\n",
       "      <td>1002</td>\n",
       "      <td>1233</td>\n",
       "      <td>246</td>\n",
       "      <td>4029</td>\n",
       "      <td>891</td>\n",
       "      <td>550</td>\n",
       "      <td>336</td>\n",
       "      <td>960</td>\n",
       "      <td>3</td>\n",
       "      <td>2023-01-01 00:00:02.000</td>\n",
       "    </tr>\n",
       "    <tr>\n",
       "      <th>...</th>\n",
       "      <td>...</td>\n",
       "      <td>...</td>\n",
       "      <td>...</td>\n",
       "      <td>...</td>\n",
       "      <td>...</td>\n",
       "      <td>...</td>\n",
       "      <td>...</td>\n",
       "      <td>...</td>\n",
       "      <td>...</td>\n",
       "      <td>...</td>\n",
       "      <td>...</td>\n",
       "      <td>...</td>\n",
       "      <td>...</td>\n",
       "      <td>...</td>\n",
       "    </tr>\n",
       "    <tr>\n",
       "      <th>3756</th>\n",
       "      <td>3089</td>\n",
       "      <td>49</td>\n",
       "      <td>0</td>\n",
       "      <td>0</td>\n",
       "      <td>701</td>\n",
       "      <td>697</td>\n",
       "      <td>482</td>\n",
       "      <td>4009</td>\n",
       "      <td>487</td>\n",
       "      <td>387</td>\n",
       "      <td>652</td>\n",
       "      <td>1009</td>\n",
       "      <td>7</td>\n",
       "      <td>2023-01-01 00:31:18.000</td>\n",
       "    </tr>\n",
       "    <tr>\n",
       "      <th>3757</th>\n",
       "      <td>2999</td>\n",
       "      <td>267</td>\n",
       "      <td>0</td>\n",
       "      <td>0</td>\n",
       "      <td>623</td>\n",
       "      <td>584</td>\n",
       "      <td>486</td>\n",
       "      <td>4018</td>\n",
       "      <td>515</td>\n",
       "      <td>366</td>\n",
       "      <td>658</td>\n",
       "      <td>995</td>\n",
       "      <td>7</td>\n",
       "      <td>2023-01-01 00:31:18.500</td>\n",
       "    </tr>\n",
       "    <tr>\n",
       "      <th>3758</th>\n",
       "      <td>3067</td>\n",
       "      <td>0</td>\n",
       "      <td>0</td>\n",
       "      <td>0</td>\n",
       "      <td>594</td>\n",
       "      <td>558</td>\n",
       "      <td>477</td>\n",
       "      <td>4007</td>\n",
       "      <td>461</td>\n",
       "      <td>388</td>\n",
       "      <td>634</td>\n",
       "      <td>1009</td>\n",
       "      <td>7</td>\n",
       "      <td>2023-01-01 00:31:19.000</td>\n",
       "    </tr>\n",
       "    <tr>\n",
       "      <th>3759</th>\n",
       "      <td>3045</td>\n",
       "      <td>0</td>\n",
       "      <td>0</td>\n",
       "      <td>0</td>\n",
       "      <td>583</td>\n",
       "      <td>578</td>\n",
       "      <td>455</td>\n",
       "      <td>4016</td>\n",
       "      <td>475</td>\n",
       "      <td>365</td>\n",
       "      <td>622</td>\n",
       "      <td>1022</td>\n",
       "      <td>7</td>\n",
       "      <td>2023-01-01 00:31:19.500</td>\n",
       "    </tr>\n",
       "    <tr>\n",
       "      <th>3760</th>\n",
       "      <td>0</td>\n",
       "      <td>0</td>\n",
       "      <td>0</td>\n",
       "      <td>0</td>\n",
       "      <td>964</td>\n",
       "      <td>768</td>\n",
       "      <td>471</td>\n",
       "      <td>4018</td>\n",
       "      <td>198</td>\n",
       "      <td>312</td>\n",
       "      <td>511</td>\n",
       "      <td>841</td>\n",
       "      <td>7</td>\n",
       "      <td>2023-01-01 00:31:20.000</td>\n",
       "    </tr>\n",
       "  </tbody>\n",
       "</table>\n",
       "<p>3761 rows × 14 columns</p>\n",
       "</div>"
      ],
      "text/plain": [
       "       p00  p01  p02  p03   p04   p05  p06   p07  p08  p09  p10   p11  pose  \\\n",
       "0        0    0    0    0   953  1203  228  4018  778  484  237   904     3   \n",
       "1        0    0    0    0   989  1227  243  4019  875  538  310   947     3   \n",
       "2        0    0    0    0   986  1210  242  4028  863  532  303   940     3   \n",
       "3        0    0    0    0   989  1232  245  4019  889  556  302   955     3   \n",
       "4        0    0    0    0  1002  1233  246  4029  891  550  336   960     3   \n",
       "...    ...  ...  ...  ...   ...   ...  ...   ...  ...  ...  ...   ...   ...   \n",
       "3756  3089   49    0    0   701   697  482  4009  487  387  652  1009     7   \n",
       "3757  2999  267    0    0   623   584  486  4018  515  366  658   995     7   \n",
       "3758  3067    0    0    0   594   558  477  4007  461  388  634  1009     7   \n",
       "3759  3045    0    0    0   583   578  455  4016  475  365  622  1022     7   \n",
       "3760     0    0    0    0   964   768  471  4018  198  312  511   841     7   \n",
       "\n",
       "                   timestamp  \n",
       "0    2023-01-01 00:00:00.000  \n",
       "1    2023-01-01 00:00:00.500  \n",
       "2    2023-01-01 00:00:01.000  \n",
       "3    2023-01-01 00:00:01.500  \n",
       "4    2023-01-01 00:00:02.000  \n",
       "...                      ...  \n",
       "3756 2023-01-01 00:31:18.000  \n",
       "3757 2023-01-01 00:31:18.500  \n",
       "3758 2023-01-01 00:31:19.000  \n",
       "3759 2023-01-01 00:31:19.500  \n",
       "3760 2023-01-01 00:31:20.000  \n",
       "\n",
       "[3761 rows x 14 columns]"
      ]
     },
     "execution_count": 21,
     "metadata": {},
     "output_type": "execute_result"
    }
   ],
   "source": [
    "DFS['van_li']"
   ]
  },
  {
   "cell_type": "code",
   "execution_count": 70,
   "metadata": {},
   "outputs": [],
   "source": [
    "# primeira ocorrencia de pose 3\n",
    "pose3c1 = DFS['bru_li'][\n",
    "    (DFS['bru_li']['timestamp'] > DFS_POSES_DURATIONS['bru_li']['start']['p:7,c:6']) &\n",
    "    (DFS['bru_li']['timestamp'] < DFS_POSES_DURATIONS['bru_li']['end']['p:7,c:6'])\n",
    "]\n",
    "pose3c1 = pose3c1.copy()\n",
    "\n",
    "# segunda ocorrencia de pose 3\n",
    "pose3c2 = DFS['bru_li'][\n",
    "    (DFS['bru_li']['timestamp'] > DFS_POSES_DURATIONS['bru_li']['start']['p:7,c:13']) &\n",
    "    (DFS['bru_li']['timestamp'] < DFS_POSES_DURATIONS['bru_li']['end']['p:7,c:13'])\n",
    "]\n",
    "pose3c2 = pose3c2.copy()"
   ]
  },
  {
   "cell_type": "code",
   "execution_count": 71,
   "metadata": {},
   "outputs": [
    {
     "data": {
      "text/html": [
       "<div>\n",
       "<style scoped>\n",
       "    .dataframe tbody tr th:only-of-type {\n",
       "        vertical-align: middle;\n",
       "    }\n",
       "\n",
       "    .dataframe tbody tr th {\n",
       "        vertical-align: top;\n",
       "    }\n",
       "\n",
       "    .dataframe thead th {\n",
       "        text-align: right;\n",
       "    }\n",
       "</style>\n",
       "<table border=\"1\" class=\"dataframe\">\n",
       "  <thead>\n",
       "    <tr style=\"text-align: right;\">\n",
       "      <th></th>\n",
       "      <th>p00</th>\n",
       "      <th>p01</th>\n",
       "      <th>p02</th>\n",
       "      <th>p03</th>\n",
       "      <th>p04</th>\n",
       "      <th>p05</th>\n",
       "      <th>p06</th>\n",
       "      <th>p07</th>\n",
       "      <th>p08</th>\n",
       "      <th>p09</th>\n",
       "      <th>p10</th>\n",
       "      <th>p11</th>\n",
       "      <th>pose</th>\n",
       "      <th>timestamp</th>\n",
       "      <th>flag</th>\n",
       "    </tr>\n",
       "  </thead>\n",
       "  <tbody>\n",
       "    <tr>\n",
       "      <th>1159</th>\n",
       "      <td>1168</td>\n",
       "      <td>0</td>\n",
       "      <td>1915</td>\n",
       "      <td>1998</td>\n",
       "      <td>0</td>\n",
       "      <td>0</td>\n",
       "      <td>327</td>\n",
       "      <td>4012</td>\n",
       "      <td>895</td>\n",
       "      <td>220</td>\n",
       "      <td>299</td>\n",
       "      <td>875</td>\n",
       "      <td>7</td>\n",
       "      <td>2023-01-01 00:09:39.500</td>\n",
       "      <td>1</td>\n",
       "    </tr>\n",
       "    <tr>\n",
       "      <th>1160</th>\n",
       "      <td>1359</td>\n",
       "      <td>0</td>\n",
       "      <td>1942</td>\n",
       "      <td>2080</td>\n",
       "      <td>0</td>\n",
       "      <td>0</td>\n",
       "      <td>409</td>\n",
       "      <td>4036</td>\n",
       "      <td>991</td>\n",
       "      <td>238</td>\n",
       "      <td>360</td>\n",
       "      <td>676</td>\n",
       "      <td>7</td>\n",
       "      <td>2023-01-01 00:09:40.000</td>\n",
       "      <td>1</td>\n",
       "    </tr>\n",
       "    <tr>\n",
       "      <th>1161</th>\n",
       "      <td>1342</td>\n",
       "      <td>0</td>\n",
       "      <td>1902</td>\n",
       "      <td>2061</td>\n",
       "      <td>0</td>\n",
       "      <td>0</td>\n",
       "      <td>397</td>\n",
       "      <td>4024</td>\n",
       "      <td>968</td>\n",
       "      <td>224</td>\n",
       "      <td>281</td>\n",
       "      <td>573</td>\n",
       "      <td>7</td>\n",
       "      <td>2023-01-01 00:09:40.500</td>\n",
       "      <td>1</td>\n",
       "    </tr>\n",
       "    <tr>\n",
       "      <th>1162</th>\n",
       "      <td>1219</td>\n",
       "      <td>0</td>\n",
       "      <td>1964</td>\n",
       "      <td>2191</td>\n",
       "      <td>0</td>\n",
       "      <td>0</td>\n",
       "      <td>423</td>\n",
       "      <td>4034</td>\n",
       "      <td>1043</td>\n",
       "      <td>181</td>\n",
       "      <td>386</td>\n",
       "      <td>525</td>\n",
       "      <td>7</td>\n",
       "      <td>2023-01-01 00:09:41.000</td>\n",
       "      <td>1</td>\n",
       "    </tr>\n",
       "    <tr>\n",
       "      <th>1163</th>\n",
       "      <td>1361</td>\n",
       "      <td>0</td>\n",
       "      <td>1942</td>\n",
       "      <td>2098</td>\n",
       "      <td>0</td>\n",
       "      <td>0</td>\n",
       "      <td>410</td>\n",
       "      <td>4026</td>\n",
       "      <td>997</td>\n",
       "      <td>247</td>\n",
       "      <td>390</td>\n",
       "      <td>651</td>\n",
       "      <td>7</td>\n",
       "      <td>2023-01-01 00:09:41.500</td>\n",
       "      <td>1</td>\n",
       "    </tr>\n",
       "    <tr>\n",
       "      <th>...</th>\n",
       "      <td>...</td>\n",
       "      <td>...</td>\n",
       "      <td>...</td>\n",
       "      <td>...</td>\n",
       "      <td>...</td>\n",
       "      <td>...</td>\n",
       "      <td>...</td>\n",
       "      <td>...</td>\n",
       "      <td>...</td>\n",
       "      <td>...</td>\n",
       "      <td>...</td>\n",
       "      <td>...</td>\n",
       "      <td>...</td>\n",
       "      <td>...</td>\n",
       "      <td>...</td>\n",
       "    </tr>\n",
       "    <tr>\n",
       "      <th>2684</th>\n",
       "      <td>1887</td>\n",
       "      <td>0</td>\n",
       "      <td>1868</td>\n",
       "      <td>1838</td>\n",
       "      <td>0</td>\n",
       "      <td>0</td>\n",
       "      <td>792</td>\n",
       "      <td>3958</td>\n",
       "      <td>1223</td>\n",
       "      <td>522</td>\n",
       "      <td>0</td>\n",
       "      <td>975</td>\n",
       "      <td>7</td>\n",
       "      <td>2023-01-01 00:22:22.000</td>\n",
       "      <td>2</td>\n",
       "    </tr>\n",
       "    <tr>\n",
       "      <th>2685</th>\n",
       "      <td>1822</td>\n",
       "      <td>0</td>\n",
       "      <td>2022</td>\n",
       "      <td>1950</td>\n",
       "      <td>0</td>\n",
       "      <td>0</td>\n",
       "      <td>790</td>\n",
       "      <td>3948</td>\n",
       "      <td>1221</td>\n",
       "      <td>520</td>\n",
       "      <td>0</td>\n",
       "      <td>974</td>\n",
       "      <td>7</td>\n",
       "      <td>2023-01-01 00:22:22.500</td>\n",
       "      <td>2</td>\n",
       "    </tr>\n",
       "    <tr>\n",
       "      <th>2686</th>\n",
       "      <td>2035</td>\n",
       "      <td>0</td>\n",
       "      <td>1966</td>\n",
       "      <td>1137</td>\n",
       "      <td>0</td>\n",
       "      <td>0</td>\n",
       "      <td>794</td>\n",
       "      <td>3958</td>\n",
       "      <td>1203</td>\n",
       "      <td>526</td>\n",
       "      <td>0</td>\n",
       "      <td>979</td>\n",
       "      <td>7</td>\n",
       "      <td>2023-01-01 00:22:23.000</td>\n",
       "      <td>2</td>\n",
       "    </tr>\n",
       "    <tr>\n",
       "      <th>2687</th>\n",
       "      <td>1923</td>\n",
       "      <td>0</td>\n",
       "      <td>2002</td>\n",
       "      <td>1648</td>\n",
       "      <td>0</td>\n",
       "      <td>0</td>\n",
       "      <td>792</td>\n",
       "      <td>3949</td>\n",
       "      <td>1220</td>\n",
       "      <td>529</td>\n",
       "      <td>0</td>\n",
       "      <td>978</td>\n",
       "      <td>7</td>\n",
       "      <td>2023-01-01 00:22:23.500</td>\n",
       "      <td>2</td>\n",
       "    </tr>\n",
       "    <tr>\n",
       "      <th>2688</th>\n",
       "      <td>0</td>\n",
       "      <td>0</td>\n",
       "      <td>0</td>\n",
       "      <td>0</td>\n",
       "      <td>0</td>\n",
       "      <td>0</td>\n",
       "      <td>315</td>\n",
       "      <td>4041</td>\n",
       "      <td>1094</td>\n",
       "      <td>450</td>\n",
       "      <td>26</td>\n",
       "      <td>582</td>\n",
       "      <td>7</td>\n",
       "      <td>2023-01-01 00:22:24.000</td>\n",
       "      <td>2</td>\n",
       "    </tr>\n",
       "  </tbody>\n",
       "</table>\n",
       "<p>794 rows × 15 columns</p>\n",
       "</div>"
      ],
      "text/plain": [
       "       p00  p01   p02   p03  p04  p05  p06   p07   p08  p09  p10  p11  pose  \\\n",
       "1159  1168    0  1915  1998    0    0  327  4012   895  220  299  875     7   \n",
       "1160  1359    0  1942  2080    0    0  409  4036   991  238  360  676     7   \n",
       "1161  1342    0  1902  2061    0    0  397  4024   968  224  281  573     7   \n",
       "1162  1219    0  1964  2191    0    0  423  4034  1043  181  386  525     7   \n",
       "1163  1361    0  1942  2098    0    0  410  4026   997  247  390  651     7   \n",
       "...    ...  ...   ...   ...  ...  ...  ...   ...   ...  ...  ...  ...   ...   \n",
       "2684  1887    0  1868  1838    0    0  792  3958  1223  522    0  975     7   \n",
       "2685  1822    0  2022  1950    0    0  790  3948  1221  520    0  974     7   \n",
       "2686  2035    0  1966  1137    0    0  794  3958  1203  526    0  979     7   \n",
       "2687  1923    0  2002  1648    0    0  792  3949  1220  529    0  978     7   \n",
       "2688     0    0     0     0    0    0  315  4041  1094  450   26  582     7   \n",
       "\n",
       "                   timestamp  flag  \n",
       "1159 2023-01-01 00:09:39.500     1  \n",
       "1160 2023-01-01 00:09:40.000     1  \n",
       "1161 2023-01-01 00:09:40.500     1  \n",
       "1162 2023-01-01 00:09:41.000     1  \n",
       "1163 2023-01-01 00:09:41.500     1  \n",
       "...                      ...   ...  \n",
       "2684 2023-01-01 00:22:22.000     2  \n",
       "2685 2023-01-01 00:22:22.500     2  \n",
       "2686 2023-01-01 00:22:23.000     2  \n",
       "2687 2023-01-01 00:22:23.500     2  \n",
       "2688 2023-01-01 00:22:24.000     2  \n",
       "\n",
       "[794 rows x 15 columns]"
      ]
     },
     "execution_count": 71,
     "metadata": {},
     "output_type": "execute_result"
    }
   ],
   "source": [
    "# junta as duas ocorrencias e cria uma flag para cada uma\n",
    "pose3c1['flag'] = 1\n",
    "pose3c2['flag'] = 2\n",
    "df_pose3 = pd.concat([pose3c1, pose3c2])\n",
    "\n",
    "df_pose3"
   ]
  },
  {
   "cell_type": "code",
   "execution_count": 72,
   "metadata": {},
   "outputs": [
    {
     "data": {
      "text/plain": [
       "1    450\n",
       "2    344\n",
       "Name: flag, dtype: int64"
      ]
     },
     "execution_count": 72,
     "metadata": {},
     "output_type": "execute_result"
    }
   ],
   "source": [
    "df_pose3['flag'].value_counts()"
   ]
  },
  {
   "cell_type": "code",
   "execution_count": 73,
   "metadata": {},
   "outputs": [
    {
     "data": {
      "text/html": [
       "<div>\n",
       "<style scoped>\n",
       "    .dataframe tbody tr th:only-of-type {\n",
       "        vertical-align: middle;\n",
       "    }\n",
       "\n",
       "    .dataframe tbody tr th {\n",
       "        vertical-align: top;\n",
       "    }\n",
       "\n",
       "    .dataframe thead th {\n",
       "        text-align: right;\n",
       "    }\n",
       "</style>\n",
       "<table border=\"1\" class=\"dataframe\">\n",
       "  <thead>\n",
       "    <tr style=\"text-align: right;\">\n",
       "      <th></th>\n",
       "      <th>p00</th>\n",
       "      <th>p01</th>\n",
       "      <th>p02</th>\n",
       "      <th>p03</th>\n",
       "      <th>p04</th>\n",
       "      <th>p05</th>\n",
       "      <th>p06</th>\n",
       "      <th>p07</th>\n",
       "      <th>p08</th>\n",
       "      <th>p09</th>\n",
       "      <th>p10</th>\n",
       "      <th>p11</th>\n",
       "    </tr>\n",
       "  </thead>\n",
       "  <tbody>\n",
       "    <tr>\n",
       "      <th>1159</th>\n",
       "      <td>1168</td>\n",
       "      <td>0</td>\n",
       "      <td>1915</td>\n",
       "      <td>1998</td>\n",
       "      <td>0</td>\n",
       "      <td>0</td>\n",
       "      <td>327</td>\n",
       "      <td>4012</td>\n",
       "      <td>895</td>\n",
       "      <td>220</td>\n",
       "      <td>299</td>\n",
       "      <td>875</td>\n",
       "    </tr>\n",
       "    <tr>\n",
       "      <th>1160</th>\n",
       "      <td>1359</td>\n",
       "      <td>0</td>\n",
       "      <td>1942</td>\n",
       "      <td>2080</td>\n",
       "      <td>0</td>\n",
       "      <td>0</td>\n",
       "      <td>409</td>\n",
       "      <td>4036</td>\n",
       "      <td>991</td>\n",
       "      <td>238</td>\n",
       "      <td>360</td>\n",
       "      <td>676</td>\n",
       "    </tr>\n",
       "    <tr>\n",
       "      <th>1161</th>\n",
       "      <td>1342</td>\n",
       "      <td>0</td>\n",
       "      <td>1902</td>\n",
       "      <td>2061</td>\n",
       "      <td>0</td>\n",
       "      <td>0</td>\n",
       "      <td>397</td>\n",
       "      <td>4024</td>\n",
       "      <td>968</td>\n",
       "      <td>224</td>\n",
       "      <td>281</td>\n",
       "      <td>573</td>\n",
       "    </tr>\n",
       "    <tr>\n",
       "      <th>1162</th>\n",
       "      <td>1219</td>\n",
       "      <td>0</td>\n",
       "      <td>1964</td>\n",
       "      <td>2191</td>\n",
       "      <td>0</td>\n",
       "      <td>0</td>\n",
       "      <td>423</td>\n",
       "      <td>4034</td>\n",
       "      <td>1043</td>\n",
       "      <td>181</td>\n",
       "      <td>386</td>\n",
       "      <td>525</td>\n",
       "    </tr>\n",
       "    <tr>\n",
       "      <th>1163</th>\n",
       "      <td>1361</td>\n",
       "      <td>0</td>\n",
       "      <td>1942</td>\n",
       "      <td>2098</td>\n",
       "      <td>0</td>\n",
       "      <td>0</td>\n",
       "      <td>410</td>\n",
       "      <td>4026</td>\n",
       "      <td>997</td>\n",
       "      <td>247</td>\n",
       "      <td>390</td>\n",
       "      <td>651</td>\n",
       "    </tr>\n",
       "    <tr>\n",
       "      <th>...</th>\n",
       "      <td>...</td>\n",
       "      <td>...</td>\n",
       "      <td>...</td>\n",
       "      <td>...</td>\n",
       "      <td>...</td>\n",
       "      <td>...</td>\n",
       "      <td>...</td>\n",
       "      <td>...</td>\n",
       "      <td>...</td>\n",
       "      <td>...</td>\n",
       "      <td>...</td>\n",
       "      <td>...</td>\n",
       "    </tr>\n",
       "    <tr>\n",
       "      <th>2684</th>\n",
       "      <td>1887</td>\n",
       "      <td>0</td>\n",
       "      <td>1868</td>\n",
       "      <td>1838</td>\n",
       "      <td>0</td>\n",
       "      <td>0</td>\n",
       "      <td>792</td>\n",
       "      <td>3958</td>\n",
       "      <td>1223</td>\n",
       "      <td>522</td>\n",
       "      <td>0</td>\n",
       "      <td>975</td>\n",
       "    </tr>\n",
       "    <tr>\n",
       "      <th>2685</th>\n",
       "      <td>1822</td>\n",
       "      <td>0</td>\n",
       "      <td>2022</td>\n",
       "      <td>1950</td>\n",
       "      <td>0</td>\n",
       "      <td>0</td>\n",
       "      <td>790</td>\n",
       "      <td>3948</td>\n",
       "      <td>1221</td>\n",
       "      <td>520</td>\n",
       "      <td>0</td>\n",
       "      <td>974</td>\n",
       "    </tr>\n",
       "    <tr>\n",
       "      <th>2686</th>\n",
       "      <td>2035</td>\n",
       "      <td>0</td>\n",
       "      <td>1966</td>\n",
       "      <td>1137</td>\n",
       "      <td>0</td>\n",
       "      <td>0</td>\n",
       "      <td>794</td>\n",
       "      <td>3958</td>\n",
       "      <td>1203</td>\n",
       "      <td>526</td>\n",
       "      <td>0</td>\n",
       "      <td>979</td>\n",
       "    </tr>\n",
       "    <tr>\n",
       "      <th>2687</th>\n",
       "      <td>1923</td>\n",
       "      <td>0</td>\n",
       "      <td>2002</td>\n",
       "      <td>1648</td>\n",
       "      <td>0</td>\n",
       "      <td>0</td>\n",
       "      <td>792</td>\n",
       "      <td>3949</td>\n",
       "      <td>1220</td>\n",
       "      <td>529</td>\n",
       "      <td>0</td>\n",
       "      <td>978</td>\n",
       "    </tr>\n",
       "    <tr>\n",
       "      <th>2688</th>\n",
       "      <td>0</td>\n",
       "      <td>0</td>\n",
       "      <td>0</td>\n",
       "      <td>0</td>\n",
       "      <td>0</td>\n",
       "      <td>0</td>\n",
       "      <td>315</td>\n",
       "      <td>4041</td>\n",
       "      <td>1094</td>\n",
       "      <td>450</td>\n",
       "      <td>26</td>\n",
       "      <td>582</td>\n",
       "    </tr>\n",
       "  </tbody>\n",
       "</table>\n",
       "<p>794 rows × 12 columns</p>\n",
       "</div>"
      ],
      "text/plain": [
       "       p00  p01   p02   p03  p04  p05  p06   p07   p08  p09  p10  p11\n",
       "1159  1168    0  1915  1998    0    0  327  4012   895  220  299  875\n",
       "1160  1359    0  1942  2080    0    0  409  4036   991  238  360  676\n",
       "1161  1342    0  1902  2061    0    0  397  4024   968  224  281  573\n",
       "1162  1219    0  1964  2191    0    0  423  4034  1043  181  386  525\n",
       "1163  1361    0  1942  2098    0    0  410  4026   997  247  390  651\n",
       "...    ...  ...   ...   ...  ...  ...  ...   ...   ...  ...  ...  ...\n",
       "2684  1887    0  1868  1838    0    0  792  3958  1223  522    0  975\n",
       "2685  1822    0  2022  1950    0    0  790  3948  1221  520    0  974\n",
       "2686  2035    0  1966  1137    0    0  794  3958  1203  526    0  979\n",
       "2687  1923    0  2002  1648    0    0  792  3949  1220  529    0  978\n",
       "2688     0    0     0     0    0    0  315  4041  1094  450   26  582\n",
       "\n",
       "[794 rows x 12 columns]"
      ]
     },
     "execution_count": 73,
     "metadata": {},
     "output_type": "execute_result"
    }
   ],
   "source": [
    "# separa o dataframa em features pro PCA e target\n",
    "X = df_pose3[df.columns[:-2]]\n",
    "X"
   ]
  },
  {
   "cell_type": "code",
   "execution_count": 74,
   "metadata": {},
   "outputs": [
    {
     "data": {
      "text/plain": [
       "array([[  89.78308604,  729.6856085 ],\n",
       "       [  13.81627583,  592.28584159],\n",
       "       [  95.62828097,  614.32088089],\n",
       "       ...,\n",
       "       [-332.54946947,  -71.89107527],\n",
       "       [-238.02343852,   70.18253184],\n",
       "       [1836.21136953,  644.41986535]])"
      ]
     },
     "execution_count": 74,
     "metadata": {},
     "output_type": "execute_result"
    }
   ],
   "source": [
    "# aplica o PCA\n",
    "pca = PCA(n_components=2)\n",
    "pca.fit(X)\n",
    "X_pca = pca.transform(X)\n",
    "X_pca"
   ]
  },
  {
   "cell_type": "code",
   "execution_count": 77,
   "metadata": {},
   "outputs": [
    {
     "data": {
      "application/vnd.plotly.v1+json": {
       "config": {
        "plotlyServerURL": "https://plot.ly"
       },
       "data": [
        {
         "hovertemplate": "pc1=%{x}<br>pc2=%{y}<br>flag=%{marker.color}<extra></extra>",
         "legendgroup": "",
         "marker": {
          "color": [
           1,
           1,
           1,
           1,
           1,
           1,
           1,
           1,
           1,
           1,
           1,
           1,
           1,
           1,
           1,
           1,
           1,
           1,
           1,
           1,
           1,
           1,
           1,
           1,
           1,
           1,
           1,
           1,
           1,
           1,
           1,
           1,
           1,
           1,
           1,
           1,
           1,
           1,
           1,
           1,
           1,
           1,
           1,
           1,
           1,
           1,
           1,
           1,
           1,
           1,
           1,
           1,
           1,
           1,
           1,
           1,
           1,
           1,
           1,
           1,
           1,
           1,
           1,
           1,
           1,
           1,
           1,
           1,
           1,
           1,
           1,
           1,
           1,
           1,
           1,
           1,
           1,
           1,
           1,
           1,
           1,
           1,
           1,
           1,
           1,
           1,
           1,
           1,
           1,
           1,
           1,
           1,
           1,
           1,
           1,
           1,
           1,
           1,
           1,
           1,
           1,
           1,
           1,
           1,
           1,
           1,
           1,
           1,
           1,
           1,
           1,
           1,
           1,
           1,
           1,
           1,
           1,
           1,
           1,
           1,
           1,
           1,
           1,
           1,
           1,
           1,
           1,
           1,
           1,
           1,
           1,
           1,
           1,
           1,
           1,
           1,
           1,
           1,
           1,
           1,
           1,
           1,
           1,
           1,
           1,
           1,
           1,
           1,
           1,
           1,
           1,
           1,
           1,
           1,
           1,
           1,
           1,
           1,
           1,
           1,
           1,
           1,
           1,
           1,
           1,
           1,
           1,
           1,
           1,
           1,
           1,
           1,
           1,
           1,
           1,
           1,
           1,
           1,
           1,
           1,
           1,
           1,
           1,
           1,
           1,
           1,
           1,
           1,
           1,
           1,
           1,
           1,
           1,
           1,
           1,
           1,
           1,
           1,
           1,
           1,
           1,
           1,
           1,
           1,
           1,
           1,
           1,
           1,
           1,
           1,
           1,
           1,
           1,
           1,
           1,
           1,
           1,
           1,
           1,
           1,
           1,
           1,
           1,
           1,
           1,
           1,
           1,
           1,
           1,
           1,
           1,
           1,
           1,
           1,
           1,
           1,
           1,
           1,
           1,
           1,
           1,
           1,
           1,
           1,
           1,
           1,
           1,
           1,
           1,
           1,
           1,
           1,
           1,
           1,
           1,
           1,
           1,
           1,
           1,
           1,
           1,
           1,
           1,
           1,
           1,
           1,
           1,
           1,
           1,
           1,
           1,
           1,
           1,
           1,
           1,
           1,
           1,
           1,
           1,
           1,
           1,
           1,
           1,
           1,
           1,
           1,
           1,
           1,
           1,
           1,
           1,
           1,
           1,
           1,
           1,
           1,
           1,
           1,
           1,
           1,
           1,
           1,
           1,
           1,
           1,
           1,
           1,
           1,
           1,
           1,
           1,
           1,
           1,
           1,
           1,
           1,
           1,
           1,
           1,
           1,
           1,
           1,
           1,
           1,
           1,
           1,
           1,
           1,
           1,
           1,
           1,
           1,
           1,
           1,
           1,
           1,
           1,
           1,
           1,
           1,
           1,
           1,
           1,
           1,
           1,
           1,
           1,
           1,
           1,
           1,
           1,
           1,
           1,
           1,
           1,
           1,
           1,
           1,
           1,
           1,
           1,
           1,
           1,
           1,
           1,
           1,
           1,
           1,
           1,
           1,
           1,
           1,
           1,
           1,
           1,
           1,
           1,
           1,
           1,
           1,
           1,
           1,
           1,
           1,
           1,
           1,
           1,
           1,
           1,
           1,
           1,
           1,
           1,
           1,
           1,
           1,
           1,
           1,
           1,
           1,
           1,
           1,
           1,
           1,
           1,
           1,
           1,
           1,
           1,
           1,
           1,
           1,
           1,
           1,
           1,
           1,
           1,
           1,
           1,
           1,
           1,
           1,
           1,
           1,
           1,
           1,
           1,
           1,
           1,
           1,
           1,
           1,
           1,
           1,
           1,
           1,
           1,
           1,
           1,
           1,
           1,
           1,
           1,
           1,
           1,
           1,
           1,
           1,
           1,
           1,
           2,
           2,
           2,
           2,
           2,
           2,
           2,
           2,
           2,
           2,
           2,
           2,
           2,
           2,
           2,
           2,
           2,
           2,
           2,
           2,
           2,
           2,
           2,
           2,
           2,
           2,
           2,
           2,
           2,
           2,
           2,
           2,
           2,
           2,
           2,
           2,
           2,
           2,
           2,
           2,
           2,
           2,
           2,
           2,
           2,
           2,
           2,
           2,
           2,
           2,
           2,
           2,
           2,
           2,
           2,
           2,
           2,
           2,
           2,
           2,
           2,
           2,
           2,
           2,
           2,
           2,
           2,
           2,
           2,
           2,
           2,
           2,
           2,
           2,
           2,
           2,
           2,
           2,
           2,
           2,
           2,
           2,
           2,
           2,
           2,
           2,
           2,
           2,
           2,
           2,
           2,
           2,
           2,
           2,
           2,
           2,
           2,
           2,
           2,
           2,
           2,
           2,
           2,
           2,
           2,
           2,
           2,
           2,
           2,
           2,
           2,
           2,
           2,
           2,
           2,
           2,
           2,
           2,
           2,
           2,
           2,
           2,
           2,
           2,
           2,
           2,
           2,
           2,
           2,
           2,
           2,
           2,
           2,
           2,
           2,
           2,
           2,
           2,
           2,
           2,
           2,
           2,
           2,
           2,
           2,
           2,
           2,
           2,
           2,
           2,
           2,
           2,
           2,
           2,
           2,
           2,
           2,
           2,
           2,
           2,
           2,
           2,
           2,
           2,
           2,
           2,
           2,
           2,
           2,
           2,
           2,
           2,
           2,
           2,
           2,
           2,
           2,
           2,
           2,
           2,
           2,
           2,
           2,
           2,
           2,
           2,
           2,
           2,
           2,
           2,
           2,
           2,
           2,
           2,
           2,
           2,
           2,
           2,
           2,
           2,
           2,
           2,
           2,
           2,
           2,
           2,
           2,
           2,
           2,
           2,
           2,
           2,
           2,
           2,
           2,
           2,
           2,
           2,
           2,
           2,
           2,
           2,
           2,
           2,
           2,
           2,
           2,
           2,
           2,
           2,
           2,
           2,
           2,
           2,
           2,
           2,
           2,
           2,
           2,
           2,
           2,
           2,
           2,
           2,
           2,
           2,
           2,
           2,
           2,
           2,
           2,
           2,
           2,
           2,
           2,
           2,
           2,
           2,
           2,
           2,
           2,
           2,
           2,
           2,
           2,
           2,
           2,
           2,
           2,
           2,
           2,
           2,
           2,
           2,
           2,
           2,
           2,
           2,
           2,
           2,
           2,
           2,
           2,
           2,
           2,
           2,
           2,
           2,
           2,
           2,
           2,
           2,
           2,
           2,
           2,
           2,
           2,
           2,
           2,
           2,
           2,
           2,
           2,
           2,
           2,
           2,
           2,
           2,
           2,
           2,
           2,
           2,
           2,
           2,
           2,
           2,
           2,
           2,
           2,
           2,
           2,
           2,
           2,
           2,
           2,
           2,
           2,
           2,
           2,
           2,
           2,
           2,
           2,
           2,
           2,
           2,
           2,
           2,
           2,
           2,
           2,
           2,
           2,
           2
          ],
          "coloraxis": "coloraxis",
          "symbol": "circle"
         },
         "mode": "markers",
         "name": "",
         "orientation": "v",
         "showlegend": false,
         "type": "scatter",
         "x": [
          89.78308603886653,
          13.816275833001688,
          95.62828097238109,
          78.82369676679708,
          8.543845785187072,
          1152.8015428084088,
          862.5899925041742,
          160.52414296368488,
          908.8008175980538,
          -126.307312282793,
          -82.08713024716336,
          -196.3262250538729,
          -156.5161147353255,
          -127.594407910001,
          -142.48153963192019,
          -147.51742521646537,
          -121.33225918539553,
          -200.34487345563986,
          -174.68803768475038,
          -210.50628416668798,
          -191.11251756558974,
          -212.29602386935352,
          -216.4999686110526,
          -238.28615053073824,
          -212.6472775204389,
          -244.179562005421,
          -263.53712379519806,
          -250.6973857050151,
          -254.9902705712205,
          -330.97019670992586,
          -272.2272039787663,
          -454.81273753838116,
          -416.5938314196822,
          -527.7764391144866,
          -497.4066823892995,
          -565.8362759168639,
          -495.1032233687192,
          -268.3449373697763,
          -216.1613056313486,
          -430.14434421574254,
          -436.64639930323926,
          -527.9507207393293,
          -372.26892729982404,
          -657.126039025976,
          -629.6695922321402,
          -739.0967741709823,
          -702.9933215164305,
          -749.9012980434072,
          -763.2297410202447,
          -729.2579001749874,
          -743.9522971867559,
          -716.9456610489281,
          -772.5157638166106,
          -340.2500410320989,
          -558.2431783738695,
          -475.86940770217643,
          -347.17441028235754,
          -209.43418221300166,
          -271.7178387826187,
          -288.4635386988576,
          -140.08772879746914,
          -502.82160556305246,
          -450.02928669915804,
          -494.4939290865131,
          -590.9223462302473,
          -553.5543630858235,
          -503.9274735290436,
          -747.6241814023074,
          -705.3723882803256,
          -645.6120177919336,
          -745.8260170248823,
          -760.9183102194814,
          -750.6176207248783,
          -696.9282876024344,
          -738.0985906098342,
          -720.5158459927113,
          -692.1021501869149,
          -796.8713791153281,
          -732.702514846084,
          -783.0045483295121,
          -757.7917545802688,
          -776.92256469788,
          -791.0323199542808,
          -767.1132799752957,
          -766.9913170659185,
          -824.5017059760405,
          -736.3713007808848,
          -781.4158925249031,
          -792.9225666368927,
          -776.0781145303889,
          -768.5847878874989,
          -774.0026950718806,
          -783.0798883492982,
          -755.3319532958336,
          -781.9038696039339,
          -737.0662409370791,
          -769.1610139018487,
          -758.1417375486711,
          -738.4368693402174,
          -782.4363394066003,
          -753.5419849729598,
          -759.0500574084269,
          -755.5347546884597,
          -741.5613661365303,
          -735.3009290359062,
          -711.2258233737406,
          -707.853293401594,
          -676.6195949482592,
          -697.471332065435,
          -686.222256839994,
          -700.3423311267253,
          -680.5530429561816,
          -700.0677283191299,
          -746.7042540580708,
          -686.575939120398,
          -755.4440366996685,
          -775.6507603455586,
          -722.687369701555,
          -729.2246108763152,
          -690.7866201407486,
          -734.5170263902044,
          -716.8110888732461,
          -710.932535653529,
          -727.5877837321195,
          -731.2409274385517,
          -748.2001726591271,
          -685.0173907574251,
          -742.4366630809747,
          -724.5936539294103,
          -742.8161805251628,
          -722.1856716997495,
          -705.5070630388233,
          -732.0070281087875,
          -683.715466193521,
          -687.1688598492645,
          -700.9824436867683,
          -697.5651314839383,
          -691.4439683811491,
          -703.5577603586745,
          -727.3722179128044,
          -711.1306645456848,
          -705.7172938853729,
          -715.1851831934603,
          -703.674720105622,
          -711.1391709719423,
          -732.1898863594481,
          -692.9183874248787,
          -784.6617552540298,
          -731.4874481029279,
          -818.7288327414993,
          -815.8566428854339,
          -790.3627177284388,
          -791.9405079176604,
          -818.8412301791651,
          -830.3022451047888,
          -830.7538833621752,
          -836.8096301315667,
          -827.5565717896674,
          -843.3924897033166,
          -851.1813338346753,
          -850.7642509484062,
          -849.7934031122012,
          -841.1847955532498,
          -852.479259752582,
          -844.4659011671565,
          -852.3122975517346,
          -854.8551981791519,
          -849.4437907282207,
          -854.509320006113,
          -841.8899569686992,
          -853.7957886105385,
          -824.5704959718225,
          -864.9588455893784,
          -832.7505346965881,
          -835.1161060561182,
          -799.8504237208098,
          -787.4238478620106,
          -813.7428004770171,
          -789.9055777214035,
          -821.1016963291871,
          -803.2601577528675,
          -850.0516316903983,
          -807.7451950393852,
          -840.6303307719062,
          -843.5263605939017,
          -787.0168135869061,
          -797.0980977421908,
          -732.3023708159664,
          -785.2191782479415,
          -648.4856904246052,
          -636.5266675289379,
          -665.4191041251567,
          -674.4709533716408,
          -685.7656469932443,
          -679.4191917697091,
          -669.3484727474781,
          -661.0849220881687,
          -718.1771772346941,
          -668.2600385859201,
          -729.4829071968762,
          -703.8013610436385,
          -819.0332288500211,
          -746.4948703960172,
          -783.0448971001475,
          -798.8384677769742,
          -872.1863493372712,
          -880.570653406545,
          -960.5699791986613,
          -954.864472517732,
          -960.9009527963475,
          -957.9641936675986,
          -971.9586743665885,
          -951.085975263161,
          -972.321196216556,
          -935.4890326867227,
          -939.409287210357,
          -923.4676488679812,
          -891.4244576204368,
          -878.3636601270188,
          -912.4372613344862,
          -905.7060980409926,
          -970.514339909746,
          -986.3877258008903,
          -967.4180605462167,
          -992.6040509006142,
          -977.0009198006316,
          -986.5977097654261,
          -953.7935516317599,
          -964.3029631268661,
          -924.8867157175987,
          -936.0126913161965,
          -1003.9353873107345,
          -938.1660516902243,
          -995.5427550088641,
          -966.0127850331256,
          -953.6531326178332,
          -968.6014976469239,
          -998.0912219079268,
          -1024.5517356479052,
          -967.8477665516117,
          -997.7908711967135,
          -989.5723215179011,
          -986.196254644419,
          -980.6033420993413,
          -981.0578974987963,
          -978.3819193650818,
          -958.0469640320193,
          -1009.5981492034427,
          -980.1704742492075,
          -961.7287338475933,
          -978.3427785145503,
          -967.1593126784986,
          -970.1098433875494,
          -965.4609735168243,
          -983.8181667323806,
          -939.7891586592367,
          -1000.0618104531303,
          -953.0948482738514,
          -902.0990193207825,
          -929.1195608123767,
          -937.590509108006,
          -894.1191253199944,
          -909.7203078940627,
          -847.6745878686876,
          -862.478725727366,
          -817.6121050473485,
          -819.3466467265903,
          -794.4776902490057,
          -772.206748138542,
          -784.9445264058827,
          -796.7337989468488,
          -789.3725403132297,
          -785.0615420897617,
          -741.9201074548132,
          -840.7701955074394,
          -760.0115175584633,
          -713.4419046688674,
          -719.5559224430939,
          -745.9922903631032,
          -711.5385185605364,
          -716.44937698435,
          -751.9338756619572,
          -732.4560082025722,
          -759.9641906744862,
          -779.6799705341713,
          -791.2008570805438,
          -787.4347902738836,
          -774.399020704617,
          -768.8210550404925,
          -768.9327042248045,
          -783.0161997130931,
          -791.6636838284147,
          -767.9124101867923,
          -801.3873052035573,
          -773.2096774755279,
          -795.3387518883079,
          -810.6086964454832,
          -922.9825432723969,
          -896.0268836146594,
          -925.208941408784,
          -939.3146000697535,
          -957.2032686986643,
          -952.2431922341486,
          -954.1879969083467,
          -959.3064370815251,
          -977.2950571837898,
          -955.3475563128519,
          -961.4783130218482,
          -968.9094902640344,
          -978.0594761100059,
          -966.1794709917523,
          -984.4418994673628,
          -967.0090708714213,
          -968.8542584797289,
          -989.0099901211562,
          -980.8622681470739,
          -985.5082923106185,
          -985.1870101308589,
          -977.7857735930095,
          -1003.1450828809519,
          -991.5102949223432,
          -989.764380833828,
          -993.2086291699125,
          -962.4229554494597,
          -981.3185974767671,
          -1007.5365007840937,
          -988.107564557414,
          -1060.2368590553167,
          -1070.6363704877997,
          -1036.40597376197,
          -1057.1635485087675,
          -1034.0734428767578,
          -1026.1012959698937,
          -1021.5425798045749,
          -1025.8495537453528,
          -1038.6469414560559,
          -1021.1824865859764,
          -1014.2838520506497,
          -1008.6382014059888,
          -1006.8256369124733,
          -1026.6773815151278,
          -1055.2270158967594,
          -1033.3527672296107,
          -1019.9799817000752,
          -1045.5728395920544,
          -999.6335558372637,
          -1003.6389695487393,
          -1009.9198249803994,
          -985.9673686570515,
          -1018.4913463756359,
          -1005.4322805983317,
          -1031.6623472909696,
          -1008.0472841381064,
          -1025.3096305479658,
          -1068.0654454889648,
          -940.1019479091177,
          -985.816631343361,
          -874.7548160171897,
          -973.2982753482447,
          -392.1349275307466,
          -569.0917658713223,
          -510.50734729451455,
          -472.9798921742762,
          -657.6691574528372,
          -557.0478406454731,
          -821.2961466054464,
          -912.0438722399562,
          -834.1930951988638,
          -866.0136833804042,
          -612.6431604753013,
          -686.9822729611099,
          -702.134389630005,
          -671.4165950506335,
          -696.9305851997235,
          -724.4429749720331,
          -736.6477602641004,
          -693.2735330839149,
          -792.4286284664136,
          -775.6830154411098,
          -792.5914814848546,
          -806.9043276269523,
          -752.420678544039,
          -769.12977391036,
          -709.1362838060907,
          -754.8571099809158,
          -735.9948496160326,
          -773.7928243425035,
          -952.6694855115645,
          -915.0474419131752,
          -994.04031018361,
          -958.9981519919692,
          -958.0085715568662,
          -953.3959009518267,
          -1051.6226913681785,
          -1003.3360294846947,
          -1050.6107969356992,
          -1041.5312387581885,
          -993.1677280829051,
          -997.339202937791,
          -967.8607195633513,
          -975.4280810110698,
          -980.8840340801318,
          -986.7965381679824,
          -949.0945258889896,
          -982.1548350354036,
          -995.7499453756757,
          -1003.1877253065792,
          -965.2497738857761,
          -992.2021138403452,
          -987.1873720432598,
          -953.1071969946137,
          -970.5842449592844,
          -970.9679244718008,
          -1000.9830076866283,
          -986.7290223371541,
          -933.1940931298992,
          -979.2470213738899,
          -927.9518397104688,
          -963.7050685953628,
          -967.8662672093209,
          -936.4432197452327,
          -963.2105229855954,
          -936.4550703203586,
          -960.7015648529795,
          -958.5416477701712,
          -965.0011521952102,
          -955.77680717008,
          -964.7979326960374,
          -947.7615013569141,
          -962.9338472416231,
          -949.5319741720341,
          -975.8624946787072,
          -964.8022066580662,
          -974.0096098987324,
          -974.5252235200581,
          -979.2969902682851,
          -999.9252770163356,
          -966.5600907547475,
          -974.6756872385645,
          -982.765868478201,
          -981.6964831343895,
          -990.61571225833,
          -981.6670505207337,
          -989.8634792006629,
          -971.6391688024589,
          -1008.5526320470201,
          -981.6155387996968,
          1790.9632235371048,
          -207.1090798758396,
          2163.4255894966227,
          506.78247818257904,
          273.73926686543786,
          462.2785643405161,
          1129.073585165085,
          892.0749240125849,
          1856.7433961013705,
          1792.5942277406853,
          792.5849874891422,
          892.4089313993152,
          735.5617316432247,
          711.1818609603415,
          614.0475463821501,
          661.6680782978119,
          584.217871581102,
          600.6090432019095,
          553.2981736093233,
          564.7146721518119,
          547.6845640405038,
          564.0762780083243,
          487.7206032704986,
          511.7838793383077,
          486.6225254495362,
          499.0163043466366,
          496.4487534853889,
          454.4708632841659,
          442.0862106777558,
          439.1087242540439,
          449.766899446026,
          430.2357509450992,
          440.1162992171844,
          449.7626338440371,
          468.06134496533514,
          445.1522852410758,
          462.18394984008285,
          492.62820388957215,
          472.16496649975295,
          460.7224679716517,
          467.42778672628424,
          481.61479563288543,
          444.16987753161277,
          458.13156151633046,
          442.02031971592794,
          453.623882703082,
          439.39851690738055,
          452.3972738890368,
          430.81541380251406,
          453.3750155731113,
          480.50080773767394,
          439.98670537786023,
          502.94535555317697,
          477.8222413267572,
          533.645234143063,
          588.6867778865225,
          485.6437349253567,
          518.7064926840549,
          331.74284547608306,
          450.1830138876062,
          316.3831373709929,
          344.1330600007186,
          323.97540292193844,
          350.7140115594085,
          275.62455052787084,
          270.38395733066386,
          227.60877123937388,
          236.19805147870463,
          245.27180707629606,
          231.50732148322618,
          236.37918925919303,
          234.3678678886177,
          243.69892323766368,
          189.87762197579002,
          936.0634303009851,
          866.910157338805,
          591.7005263675641,
          734.6652848628778,
          666.9759479679423,
          893.6938491962347,
          847.4410300420099,
          885.2744375045532,
          1002.4955826291434,
          1036.9294180351847,
          613.5142440253326,
          701.8222960981722,
          1254.565100235906,
          822.1806578862302,
          1535.6510787609525,
          1351.9193808218413,
          1621.6440154593106,
          1518.6156516158135,
          1661.5685007266354,
          1684.2733795949473,
          1693.6576017374314,
          1620.222202781752,
          1767.9619318309853,
          1673.876826563183,
          1493.7401157477475,
          1558.6881040096443,
          1483.8415894328516,
          1506.1488446741832,
          1374.7525311235995,
          1376.9182685816543,
          1271.5659165498266,
          1336.8120186044907,
          1167.5504139181644,
          1197.4566104382293,
          1211.0292476485026,
          1162.8480751450707,
          1565.0137487090146,
          1356.8557934693556,
          1629.9162054684352,
          1649.6326569736693,
          1739.5523331688082,
          1751.8698242255946,
          1469.4804318137722,
          1430.8081996084616,
          1480.7094453849022,
          1459.847515366943,
          1668.2916585713178,
          1638.117565070374,
          1595.8108879084514,
          1642.7023566708724,
          1581.7000130904503,
          1572.7958341452802,
          1548.0337415574375,
          1558.9110528568262,
          1549.394019721921,
          1556.0941689600147,
          1542.0998817412103,
          1583.7043075260867,
          1620.0059118732067,
          1469.5019243290296,
          1690.6810143820264,
          1723.210454369388,
          1344.1306155202367,
          1377.7896204917208,
          1319.4711937255095,
          1045.0708612978356,
          1539.443671211139,
          1570.966154206699,
          1352.4292276522153,
          1491.8077780769997,
          1196.1421358464695,
          1225.111622694949,
          1196.9924242218383,
          1198.5404880219082,
          1171.3586611818953,
          1101.4877947296945,
          1306.4416082779558,
          1313.055363218944,
          1319.8419483387743,
          1324.3399977514146,
          1122.9312038370851,
          1176.7490126633109,
          1070.7893281855247,
          1072.4310729211488,
          1216.3878273049008,
          1136.4127694516703,
          1367.8880665563065,
          1180.3642647791867,
          1783.5006151167267,
          1773.0977456216788,
          1532.0097494659485,
          1565.763305955189,
          1487.0302139769449,
          1482.5423462776585,
          1527.674008993648,
          1417.2242237075895,
          1596.2132255838083,
          1601.2700276127875,
          1639.258840778438,
          1521.7322722489746,
          1661.8876356201692,
          1769.5838694716713,
          1508.1648080197747,
          1565.3607981976054,
          1602.41755010776,
          1476.9020608627122,
          1193.8312522804983,
          1435.2406921550664,
          963.9268093932722,
          1026.9758321169504,
          1028.6303708848468,
          981.652642867098,
          1136.765883045004,
          1084.5073252457933,
          963.8658381182275,
          1174.9980396764768,
          1038.0634032741787,
          957.9406478168914,
          916.1234897456904,
          919.6842472717807,
          922.5966239729862,
          951.7945332088988,
          1600.2584077085812,
          971.6689012193323,
          1590.7680742584014,
          1594.3032809071283,
          1470.0635938814717,
          1519.152162193662,
          1634.6572970263194,
          1501.6584547822158,
          1575.8848475729853,
          1577.885382269676,
          1574.0977484765667,
          1567.1588575328065,
          1583.4321362217227,
          1572.8290450103732,
          1584.0930444286364,
          1598.4864022829483,
          1499.7382234440593,
          1473.3038181137154,
          1573.70885566408,
          1604.7771305126341,
          1558.7898409744776,
          1567.5462572817173,
          1562.9911999050546,
          1552.7484412198219,
          1563.8967960711932,
          1583.0191151646054,
          1552.9628361891819,
          1554.0910255220315,
          1603.8999663990674,
          1538.620952884689,
          1599.974207792769,
          1679.6691790271414,
          1588.009205054478,
          1600.434339543847,
          1477.4774309456259,
          1553.5143067233305,
          1358.0556391257926,
          1393.8754248665925,
          1310.4652934488438,
          1283.6263193195007,
          1161.8731628346554,
          1306.172525326882,
          1284.7689307780984,
          1219.1943684677376,
          1566.1839571217336,
          1535.1645346023895,
          1587.4809991926475,
          1570.3404045495272,
          1141.419586835095,
          1346.1992543989832,
          1232.838168571192,
          1249.2190161848127,
          1035.1118744962007,
          1337.296294708529,
          1187.6169501414877,
          1077.48371186435,
          1273.5711227076497,
          1379.3907349527076,
          1453.5106250065328,
          1479.1478720566126,
          1390.3372379307857,
          1260.7104226572233,
          1495.2014045240592,
          1584.7901134940735,
          1421.0272121817138,
          1397.4973024944418,
          1461.3612279536937,
          1503.6083348927887,
          1459.605078958953,
          1455.618892662311,
          1440.2545199233523,
          1453.217687697228,
          1459.9234247514314,
          1445.765377919752,
          1577.0018688373539,
          1538.9755923669645,
          1473.2561561091197,
          1486.6960692399477,
          1477.5294358674298,
          1466.938495326419,
          1368.5087473004987,
          1511.504913472948,
          1273.8476295419657,
          1356.6733001429652,
          1452.666572548213,
          1340.612966404557,
          1516.2445292358161,
          1484.3788268649564,
          1412.9040944408205,
          1487.9622997434576,
          1448.6755969977878,
          1459.1837557470096,
          1283.5144395473246,
          1350.9393539652838,
          861.5996139236196,
          1125.737759568156,
          975.2333091436957,
          834.4126355743755,
          491.59394444134466,
          632.9960737392397,
          455.7831392889027,
          410.7854476428712,
          376.81952823403674,
          583.6469868838207,
          61.26145220192627,
          363.5999505858723,
          30.503902800575155,
          62.13787459475998,
          802.8566644226332,
          33.491884073189674,
          446.7140567904033,
          528.0708518408334,
          27.944874631714757,
          158.12731651956912,
          -17.356576686035993,
          53.31127264470803,
          -98.82792859797678,
          -73.66297104271673,
          -32.31905969044528,
          -84.07111617140099,
          -120.6482588869057,
          -95.16506209876226,
          -146.3564295039466,
          -193.62007789385544,
          -138.8686496385591,
          -132.4762869225051,
          -207.68891264542367,
          -145.589212785261,
          -134.00853719000236,
          -204.89556029524866,
          -178.7130926388255,
          -109.21604849587855,
          -230.87273591916667,
          -221.49502498450033,
          -164.8914383814795,
          -200.5727893445335,
          -156.39125493253025,
          -214.2453491180379,
          -73.42875277332381,
          6.1473435457729675,
          -236.25807008071382,
          -144.28766875618288,
          -257.8262508039371,
          -246.36395601376637,
          -88.11353289645082,
          -191.11073373579532,
          -84.73898984979195,
          -166.1471249647916,
          -332.5494694673083,
          -238.0234385204557,
          1836.211369533517
         ],
         "xaxis": "x",
         "y": [
          729.6856085044841,
          592.2858415904461,
          614.3208808907472,
          741.9178354187922,
          590.3347452811768,
          1381.0065184916257,
          1514.7636684558345,
          519.9699234362513,
          1241.6845588670076,
          574.2685773551002,
          585.0627925780241,
          484.4257926824298,
          483.50128227969066,
          710.0717440301858,
          692.3809858370623,
          767.5345676042775,
          727.1008742785749,
          685.2634852684055,
          756.6492694660594,
          673.4975689243684,
          681.7893586756227,
          677.9231532919711,
          671.882781328242,
          665.2060069686313,
          705.1830099391761,
          652.1257368179479,
          629.8838930946704,
          638.51332827073,
          650.041613746884,
          555.7943148243959,
          646.6303325939808,
          421.5126160984527,
          486.34043652350607,
          375.82999647911623,
          391.8458932529578,
          295.69076508423336,
          294.50041906023574,
          -215.2693549841188,
          -22.625109678935416,
          -197.05250700735698,
          -156.03604256053742,
          -112.06928858997715,
          -319.90597781889636,
          156.40483723202706,
          58.340171231142484,
          114.61020945513843,
          140.34807886857473,
          122.0642368408928,
          88.68201889845828,
          117.75379689282907,
          103.96783370225154,
          49.13776062404063,
          95.4087349461225,
          -261.2069809066732,
          -116.61847295707676,
          -143.63331541231904,
          -280.00052614219925,
          -320.6795485981698,
          -219.52932984920906,
          -347.5530980665338,
          -400.61854100005814,
          -157.7228769955852,
          -244.53558747238708,
          -50.480056153994646,
          -153.95295620322764,
          -131.25716907620065,
          -172.9283081810948,
          -56.93352502903413,
          -59.43508548501036,
          -29.54511783065121,
          9.314268395329412,
          -18.162521503133537,
          -5.318431613082406,
          -36.947054107112145,
          -2.9484892560029063,
          60.89081209729905,
          25.991629464943244,
          -30.025592657335775,
          8.274168609073783,
          -26.432549997295357,
          -44.91096375024729,
          -17.81849974081396,
          -6.756347071267138,
          -1.4596407449744224,
          -25.12210311266479,
          -30.348705927543296,
          32.236212393741496,
          -27.300139805811796,
          -53.2966824613139,
          0.35077541398386114,
          -19.76406558203952,
          -22.46729480271004,
          -6.879530186532834,
          -29.246213040592842,
          -39.68326211597342,
          -48.901627937685035,
          -56.18793348479444,
          -72.37207540547142,
          -75.04124450122868,
          -58.52459927458416,
          -43.68148458037637,
          -11.565222544814734,
          -61.74923045288558,
          -136.3486330708772,
          -120.17727869545641,
          -148.44083022627206,
          -136.73232617341225,
          -151.58908598424034,
          -160.56739137664346,
          -133.9908068074109,
          -136.33750404212182,
          -80.49547793095938,
          -135.53180988240905,
          -111.77704660571108,
          -93.74446299830254,
          -117.36238145901872,
          -111.73471063705475,
          -150.50645802855374,
          -137.87620332475768,
          -115.4752726377035,
          -137.040696542089,
          -115.30892345280301,
          -103.06322839407727,
          -146.8000578952969,
          -132.45882908133336,
          -141.30050900663701,
          -30.597681884213333,
          -155.08192594316426,
          -150.65582391952591,
          -158.12070448067547,
          -169.48113140795095,
          -213.60819919898202,
          -185.74311195189748,
          -216.29308804853864,
          -231.5660081642841,
          -140.23243673302244,
          -159.0504905444656,
          -171.2290005055019,
          -239.17820405047684,
          -214.55054823925636,
          -104.35408917653494,
          -217.9552426047594,
          -230.8323771484224,
          -238.1664283009641,
          -227.9892224919223,
          -149.28330072256145,
          -192.16825313281208,
          -139.9649701313114,
          -194.7350892486934,
          -141.3533246327773,
          -135.60084670637485,
          -106.36348032125129,
          -125.52300817998072,
          -135.2578618632602,
          -138.52192236973326,
          -132.76932942804206,
          -131.23065671153054,
          -105.29538344160291,
          -131.44682823081627,
          -131.29455013233735,
          -126.99498086550047,
          -129.56839788407123,
          -123.70078301958507,
          -132.57062463079268,
          -127.93767096418067,
          -144.0326852579344,
          -129.0878676761118,
          -132.65270676485918,
          -136.34331610703276,
          -148.62874538393913,
          -147.75746823560226,
          -163.82455512994326,
          -182.37082844450393,
          -231.70770019669692,
          -93.70259781680033,
          -192.82354135657081,
          -214.0705478672098,
          -199.06095072301184,
          -188.3743254344844,
          -169.2901378754782,
          -181.2309817309979,
          -192.76373680707087,
          -175.4971811299739,
          -194.21631479219985,
          -190.56330073269584,
          -207.60721202273487,
          -246.5437107555715,
          -102.5785726010011,
          -153.96871889552597,
          -338.8591419464648,
          -337.7365350602828,
          -323.31181634171656,
          -343.2352198014922,
          -350.605340521522,
          -185.82190441747514,
          -332.988717420246,
          -328.51278768230713,
          -312.7386147099541,
          -319.88566076306734,
          -305.7361948787885,
          -307.7766095417013,
          -277.76684241665066,
          -261.27375136453986,
          -203.8269253371183,
          -249.7189185806471,
          -90.37049932459655,
          -158.79278611868898,
          -144.86104461789805,
          -156.23889666981628,
          -161.03480490603002,
          -163.02617745865456,
          -168.37192296632503,
          -156.354461440619,
          -177.96174328716572,
          -148.8841331127932,
          -212.88239960050674,
          -201.38684717443442,
          -220.5266094083346,
          -240.5787897264549,
          -174.60594488271832,
          -110.96355091735451,
          -123.14368666581409,
          -135.2042849450167,
          -146.02898395178423,
          -154.7089024067297,
          -169.57314699828308,
          -187.33330364282756,
          -112.47769721651338,
          -170.67730029294864,
          100.959364185989,
          -7.808867490202831,
          -113.69477655823151,
          9.556629515453015,
          -128.08282581437678,
          -131.71723712374813,
          -22.60497504605654,
          -52.498046509544395,
          -139.25192832354077,
          -136.2149133404184,
          -119.62078511838027,
          -97.29076026437447,
          -148.19024512829384,
          -166.6983665575972,
          -113.26288366499375,
          -121.19503818596513,
          -74.32710149273382,
          -83.06123790311328,
          -171.13316005514747,
          -140.92218433682893,
          -125.71887990179992,
          -154.71600803917423,
          -81.06950078836556,
          -108.20375385752253,
          -99.18493907976871,
          -97.96794974680851,
          -89.7227348754,
          -117.1356760529855,
          -143.71502273472927,
          -110.55776463615084,
          -167.36689820426975,
          -153.86569581807467,
          -198.3824239726333,
          -182.7291853227597,
          -222.82001287171104,
          -210.74863617748778,
          -242.07022438227128,
          -230.22853150364875,
          -281.80369736323195,
          -274.98876220613266,
          -247.0272751594526,
          -277.7440967035386,
          -253.70586101123843,
          -223.95015318399047,
          -307.7358056104883,
          -307.2994486318439,
          -377.05446225270236,
          -213.75070529909436,
          -380.7896112386356,
          -390.8685977601914,
          -331.89731304159113,
          -332.06509255667595,
          -339.94507806583294,
          -291.8219069821822,
          -320.1729568393002,
          -327.6614838008152,
          -335.7741687600034,
          -329.25041443320094,
          -326.68663868388654,
          -325.24040712444526,
          -332.2640839171115,
          -352.9330941969819,
          -332.101409087128,
          -330.93940837027907,
          -334.18502191491876,
          -311.0967995588088,
          -328.11587116386755,
          -338.3466060476324,
          -246.60627769265056,
          -316.0289706061339,
          -238.92189986792798,
          -255.46265445441,
          -193.12740779473208,
          -231.97727743075944,
          -154.85928898807353,
          -179.67112185294678,
          -187.74141571080912,
          -185.6825258853195,
          -184.99021580581322,
          -190.4102138794761,
          -174.19269993522298,
          -178.12200106145187,
          -146.25045129425845,
          -125.74790099476023,
          -183.97583639825774,
          -171.57922082788195,
          -186.10586981875542,
          -185.12450467793863,
          -145.14410317459792,
          -174.8593863653957,
          -180.24918753564017,
          -152.61930793962483,
          -181.12874023449098,
          -180.25056484455084,
          -108.30786358551498,
          -167.01702846749134,
          -120.5597787997602,
          -120.20362741992261,
          -180.29546820294576,
          -192.89044036135687,
          -139.93434211237974,
          -174.32062916859874,
          -120.0104737900399,
          -131.87058059277808,
          -131.59721436444326,
          -160.86310406541884,
          -196.98093482874117,
          -156.7220311951978,
          -219.37049984057683,
          -217.38922068877704,
          -187.84531061413028,
          -223.15855932302748,
          -229.07439334240732,
          -204.4266667302561,
          -136.78643819896845,
          -156.87287520627993,
          -93.14859010463853,
          -105.29412643009847,
          -102.01612111656264,
          -60.244302896015114,
          -136.78520632853636,
          -112.6609232792662,
          -103.641336304586,
          -135.0409418798445,
          -219.87116262340166,
          -147.61860510979906,
          -207.24247827682998,
          -244.23961629381475,
          -269.13943287963275,
          -202.9795927926907,
          -545.9182188121049,
          -473.57794797264194,
          -506.3253069571585,
          -519.5851189505848,
          -430.3287153455225,
          -481.11358177469936,
          -392.4219274632675,
          -451.55732222988127,
          -366.6174746451542,
          -399.3048100841449,
          -338.26271221729144,
          -392.74015313529804,
          -263.4722987940131,
          -190.86630708070862,
          -317.41053948946285,
          -294.34257643813675,
          -312.6795811726487,
          -318.1694077724837,
          -292.5368930348287,
          -294.97007726358277,
          -321.07003468748854,
          -305.844216147775,
          -327.56370549674693,
          -319.67889930418124,
          -279.983957394327,
          -325.0394667339178,
          -266.23428129968784,
          -248.35729947106393,
          -278.1882234486676,
          -294.261463078544,
          -288.9231267026488,
          -273.3386931951399,
          -192.29382331140187,
          -261.87561931634525,
          -312.3960031848247,
          -254.9552602873643,
          -311.62426004478453,
          -302.67783480965045,
          -326.45204420800957,
          -351.99113338523796,
          -345.81281795332995,
          -322.5185965979282,
          -358.4128800973861,
          -348.66263770590365,
          -263.3793885659783,
          -361.1861024526752,
          -221.69734902680403,
          -248.98841645162958,
          -254.84339313770468,
          -208.78519219565794,
          -326.65014727698565,
          -289.0073711845232,
          -355.1515852474426,
          -314.11651804731355,
          -382.76863926763497,
          -356.030412118407,
          -329.8036056299376,
          -322.7006342412188,
          -280.79771337796853,
          -342.0867936761205,
          -325.326705209488,
          -287.4427040718121,
          -319.29620265229806,
          -328.58764282370345,
          -329.8455459810811,
          -333.0195310781275,
          -327.14985976234516,
          -323.41665650159604,
          -325.3821447512082,
          -329.0428169895378,
          -339.6582873405173,
          -329.9968361602316,
          -320.986536625197,
          -336.46866412753,
          -269.27776291534667,
          -306.22430353720205,
          -311.176139060763,
          -303.45356622701314,
          -325.56705508554484,
          -323.2392026784373,
          -308.5019562704449,
          -321.79633159121244,
          -320.49885547608983,
          -310.018079068472,
          -335.08161793989757,
          -326.8166846715844,
          -342.84359417754354,
          -324.8489575592345,
          558.2182679884764,
          1147.1732189201769,
          1007.01199451321,
          -1645.3714881393885,
          2160.310370923826,
          1424.9769500901834,
          1618.651978833925,
          1835.299989920369,
          1125.491723291814,
          1192.029679208216,
          1716.0052739275877,
          1658.7157305399487,
          1744.059161641245,
          1765.0531617889205,
          1786.878464508895,
          1781.146589952095,
          1806.5561416773292,
          1792.9997099171765,
          1820.7831327868787,
          1813.459302362846,
          1817.866722809361,
          1815.287613099228,
          1862.6417913935857,
          1839.3543808988497,
          1840.6712458412842,
          1852.7621510092713,
          1837.7960596528999,
          1853.2398355582557,
          1876.4577530249255,
          1879.9109913499863,
          1864.0259137639757,
          1883.3896110816295,
          1871.732355983329,
          1862.72468190712,
          1860.3412055686083,
          1872.319199764457,
          1863.5933298321117,
          1844.5346529336566,
          1856.7969389345335,
          1864.836868877176,
          1862.67233105865,
          1848.010771235689,
          1875.2070376285994,
          1865.6962257645375,
          1872.1365455050834,
          1864.4636179461663,
          1873.1205291888825,
          1868.7005218727354,
          1872.474841342925,
          1863.5172325336341,
          1876.7001014852156,
          1867.5604405405631,
          1909.5470675714976,
          1880.158836513795,
          1982.1193859703978,
          1965.8737865861608,
          1971.0770992294795,
          1998.4400029368092,
          2030.176551306472,
          1974.3683898261795,
          2017.7246770932456,
          2006.5627036747633,
          2000.3520953629902,
          1995.3017086456357,
          2012.9343213436457,
          2015.200851248079,
          1998.074196170951,
          2007.3729583435643,
          1983.5437014579236,
          1997.9386829235123,
          1976.8038955385489,
          1981.9964631434812,
          2000.7133397012917,
          1977.8083024160646,
          1619.9425452263301,
          1658.446491056616,
          1690.155086393964,
          1735.6134359867788,
          1617.001988554099,
          1523.1411452484936,
          1054.2318088773054,
          1361.9092162530235,
          657.401853851308,
          826.1842944959358,
          716.4370403020821,
          853.3876351911274,
          210.57832577841697,
          695.3501409847157,
          4.347643833678293,
          130.87277153672596,
          -120.29782475246284,
          -0.18856018222453247,
          -195.02492319848963,
          -182.2611589793176,
          -108.63511299317844,
          -185.27752683376565,
          -260.6026317181582,
          -154.1429867280434,
          -59.770869415618264,
          -134.54979981525503,
          303.6161278937408,
          132.3133141611325,
          68.24494518442992,
          175.6197621647769,
          83.8442971519087,
          86.130781377147,
          51.876260470121956,
          75.50947720587997,
          28.870120548279584,
          62.04137441290597,
          -184.21701732192588,
          -88.29232469000468,
          93.52759182964705,
          110.90192028122526,
          -363.9873501976912,
          -166.38724315798123,
          -224.552120838328,
          -187.83749022200863,
          -294.03452797577233,
          -261.03269446727285,
          -413.1513626196106,
          -386.9236589892416,
          -405.639883671257,
          -416.5930062485626,
          -431.67352302173146,
          -415.57246462435216,
          -393.28158959136624,
          -422.7171177009411,
          -410.46366326069864,
          -407.3509341678456,
          -460.8794623027448,
          -466.14343865395944,
          -338.6424454961413,
          -389.8079283647568,
          -469.9150403120047,
          -419.21643190129436,
          -142.18533484705506,
          35.96290782268878,
          -333.50016354357126,
          -55.62717315344002,
          -496.8048075082663,
          -530.1438970408644,
          -325.8788917010149,
          -471.04617523144026,
          -158.68779409416098,
          -176.8466289091174,
          -133.21178363541006,
          -171.63968884704036,
          -154.201500836691,
          -140.5448854339458,
          -337.3115472136574,
          -48.56663074138396,
          -373.08941360994436,
          -401.17840726162024,
          -182.7299473451384,
          -244.4003536570266,
          -207.14970713384338,
          -210.95062041044926,
          -315.62261343505867,
          -192.93558260644775,
          -210.65001901799647,
          -308.27189750819355,
          -327.31326490049634,
          -328.8908842145244,
          -546.818086355738,
          -515.58562343623,
          -567.220685243086,
          -566.641878704255,
          -452.3948572116931,
          -548.4776273300367,
          -320.95070751913977,
          -243.60630841031232,
          -297.8820687707608,
          -366.9305454149051,
          -574.6466704840107,
          -350.72014244823043,
          -596.9031673922394,
          -573.5135766069952,
          -687.7361408529285,
          -601.594065581259,
          -425.24973030725727,
          -560.3546838723206,
          -314.5912124298161,
          -353.7854250079064,
          -252.54281129936675,
          -276.8090253528522,
          -192.99506825857313,
          -192.421641226574,
          -166.51398862753874,
          -244.87217954303318,
          -279.4621999773132,
          -143.36565717508495,
          -262.32633574047117,
          -248.64270620764077,
          -284.3259335258585,
          -288.3579866604894,
          -706.6668752600754,
          -217.93753127768474,
          -720.6405886400084,
          -714.6674240597512,
          -701.779872768203,
          -710.2755795821217,
          -639.201602486631,
          -571.4411914386992,
          -763.1176880868769,
          -713.5340655663834,
          -741.8577315259814,
          -778.3961077963455,
          -761.903751792291,
          -782.8560348293136,
          -712.9779749218051,
          -730.3237238843936,
          -683.9741763344921,
          -695.5160778728983,
          -779.2246188186788,
          -714.911765073563,
          -805.1957567264002,
          -790.086441272062,
          -803.3307866683365,
          -799.1571737298755,
          -804.5941830222807,
          -763.0747798002034,
          -826.5047251106625,
          -828.6060874441256,
          -709.1931045097632,
          -842.5972344535212,
          -724.5945540010185,
          -545.7901657652184,
          -743.6958265501434,
          -719.974912010181,
          -794.5054760202676,
          -800.8652926687157,
          -774.4365790150683,
          -771.4781008857427,
          -694.6407193839124,
          -699.8914495658582,
          -643.6157205184611,
          -722.1462368546594,
          -683.4269069987134,
          -661.4593265312907,
          -784.639515813595,
          -845.8428105401005,
          -732.5664774093667,
          -776.555505670149,
          -513.5191402626052,
          -573.0839545016653,
          -623.9791831710212,
          -565.6277289678076,
          -469.16714344254865,
          -719.0924184199521,
          -378.6408733133613,
          -420.35655016503443,
          -585.3246349431515,
          -538.9914819907259,
          -928.6486050392642,
          -881.5630473826283,
          -642.8583907041358,
          -742.9794096147842,
          -876.189809644364,
          -713.8716304277776,
          -960.0661995045325,
          -871.6325603712348,
          -826.2301110167117,
          -804.9490798896055,
          -853.9339140759794,
          -846.3325051149872,
          -898.5495107803703,
          -884.2625299625345,
          -843.168296344162,
          -889.2018700204383,
          -675.6006514647479,
          -706.7671339837325,
          -892.7352979468193,
          -869.8332314498965,
          -918.2737763088857,
          -915.6339016314403,
          -749.9671126697469,
          -822.823522921919,
          -694.8112259011795,
          -721.1975197216942,
          -829.8457169268036,
          -740.7592821931207,
          -836.3732768848752,
          -897.0204413613237,
          -907.8916458464003,
          -897.8766876834494,
          -949.8825977840277,
          -923.1798759877465,
          -431.8113135166428,
          -870.6805192006511,
          -529.3577770089272,
          -647.9002238059114,
          -612.58488075698,
          -562.3991797628494,
          -333.7383460082403,
          -415.73242645046327,
          68.40042089692572,
          -240.38459085594562,
          162.96970722771914,
          280.59500095092505,
          104.14428819497402,
          -53.46606119387314,
          46.39045047590671,
          50.15059491447375,
          -258.59965172902355,
          36.89868605322915,
          14.679790402993067,
          -14.68069979335927,
          248.26499547235312,
          156.91363385865523,
          208.43020844607744,
          196.75141706160207,
          199.64281459701826,
          211.31173796907186,
          177.7083472180192,
          214.56245572538825,
          188.98750108582703,
          167.90747105818005,
          198.44146026962093,
          214.55348071987115,
          170.27046606586325,
          193.33447572175106,
          161.3535053401214,
          127.49691130723272,
          267.94866074080846,
          193.9311421623679,
          211.99174897329064,
          238.6672382223376,
          220.66317614813934,
          225.28953837834996,
          217.93135430166885,
          229.59926116870554,
          244.3667488989406,
          224.3834102614721,
          150.2239547267737,
          233.1710257913501,
          216.26482100279492,
          150.80753061194412,
          203.47500395152832,
          213.30501797225315,
          213.27978872321376,
          206.88453261500592,
          45.84320568224619,
          184.69654997136064,
          -71.89107526837577,
          70.18253183633294,
          644.4198653542162
         ],
         "yaxis": "y"
        }
       ],
       "layout": {
        "coloraxis": {
         "colorbar": {
          "title": {
           "text": "flag"
          }
         },
         "colorscale": [
          [
           0,
           "#0d0887"
          ],
          [
           0.1111111111111111,
           "#46039f"
          ],
          [
           0.2222222222222222,
           "#7201a8"
          ],
          [
           0.3333333333333333,
           "#9c179e"
          ],
          [
           0.4444444444444444,
           "#bd3786"
          ],
          [
           0.5555555555555556,
           "#d8576b"
          ],
          [
           0.6666666666666666,
           "#ed7953"
          ],
          [
           0.7777777777777778,
           "#fb9f3a"
          ],
          [
           0.8888888888888888,
           "#fdca26"
          ],
          [
           1,
           "#f0f921"
          ]
         ]
        },
        "legend": {
         "tracegroupgap": 0
        },
        "template": {
         "data": {
          "bar": [
           {
            "error_x": {
             "color": "#2a3f5f"
            },
            "error_y": {
             "color": "#2a3f5f"
            },
            "marker": {
             "line": {
              "color": "#E5ECF6",
              "width": 0.5
             },
             "pattern": {
              "fillmode": "overlay",
              "size": 10,
              "solidity": 0.2
             }
            },
            "type": "bar"
           }
          ],
          "barpolar": [
           {
            "marker": {
             "line": {
              "color": "#E5ECF6",
              "width": 0.5
             },
             "pattern": {
              "fillmode": "overlay",
              "size": 10,
              "solidity": 0.2
             }
            },
            "type": "barpolar"
           }
          ],
          "carpet": [
           {
            "aaxis": {
             "endlinecolor": "#2a3f5f",
             "gridcolor": "white",
             "linecolor": "white",
             "minorgridcolor": "white",
             "startlinecolor": "#2a3f5f"
            },
            "baxis": {
             "endlinecolor": "#2a3f5f",
             "gridcolor": "white",
             "linecolor": "white",
             "minorgridcolor": "white",
             "startlinecolor": "#2a3f5f"
            },
            "type": "carpet"
           }
          ],
          "choropleth": [
           {
            "colorbar": {
             "outlinewidth": 0,
             "ticks": ""
            },
            "type": "choropleth"
           }
          ],
          "contour": [
           {
            "colorbar": {
             "outlinewidth": 0,
             "ticks": ""
            },
            "colorscale": [
             [
              0,
              "#0d0887"
             ],
             [
              0.1111111111111111,
              "#46039f"
             ],
             [
              0.2222222222222222,
              "#7201a8"
             ],
             [
              0.3333333333333333,
              "#9c179e"
             ],
             [
              0.4444444444444444,
              "#bd3786"
             ],
             [
              0.5555555555555556,
              "#d8576b"
             ],
             [
              0.6666666666666666,
              "#ed7953"
             ],
             [
              0.7777777777777778,
              "#fb9f3a"
             ],
             [
              0.8888888888888888,
              "#fdca26"
             ],
             [
              1,
              "#f0f921"
             ]
            ],
            "type": "contour"
           }
          ],
          "contourcarpet": [
           {
            "colorbar": {
             "outlinewidth": 0,
             "ticks": ""
            },
            "type": "contourcarpet"
           }
          ],
          "heatmap": [
           {
            "colorbar": {
             "outlinewidth": 0,
             "ticks": ""
            },
            "colorscale": [
             [
              0,
              "#0d0887"
             ],
             [
              0.1111111111111111,
              "#46039f"
             ],
             [
              0.2222222222222222,
              "#7201a8"
             ],
             [
              0.3333333333333333,
              "#9c179e"
             ],
             [
              0.4444444444444444,
              "#bd3786"
             ],
             [
              0.5555555555555556,
              "#d8576b"
             ],
             [
              0.6666666666666666,
              "#ed7953"
             ],
             [
              0.7777777777777778,
              "#fb9f3a"
             ],
             [
              0.8888888888888888,
              "#fdca26"
             ],
             [
              1,
              "#f0f921"
             ]
            ],
            "type": "heatmap"
           }
          ],
          "heatmapgl": [
           {
            "colorbar": {
             "outlinewidth": 0,
             "ticks": ""
            },
            "colorscale": [
             [
              0,
              "#0d0887"
             ],
             [
              0.1111111111111111,
              "#46039f"
             ],
             [
              0.2222222222222222,
              "#7201a8"
             ],
             [
              0.3333333333333333,
              "#9c179e"
             ],
             [
              0.4444444444444444,
              "#bd3786"
             ],
             [
              0.5555555555555556,
              "#d8576b"
             ],
             [
              0.6666666666666666,
              "#ed7953"
             ],
             [
              0.7777777777777778,
              "#fb9f3a"
             ],
             [
              0.8888888888888888,
              "#fdca26"
             ],
             [
              1,
              "#f0f921"
             ]
            ],
            "type": "heatmapgl"
           }
          ],
          "histogram": [
           {
            "marker": {
             "pattern": {
              "fillmode": "overlay",
              "size": 10,
              "solidity": 0.2
             }
            },
            "type": "histogram"
           }
          ],
          "histogram2d": [
           {
            "colorbar": {
             "outlinewidth": 0,
             "ticks": ""
            },
            "colorscale": [
             [
              0,
              "#0d0887"
             ],
             [
              0.1111111111111111,
              "#46039f"
             ],
             [
              0.2222222222222222,
              "#7201a8"
             ],
             [
              0.3333333333333333,
              "#9c179e"
             ],
             [
              0.4444444444444444,
              "#bd3786"
             ],
             [
              0.5555555555555556,
              "#d8576b"
             ],
             [
              0.6666666666666666,
              "#ed7953"
             ],
             [
              0.7777777777777778,
              "#fb9f3a"
             ],
             [
              0.8888888888888888,
              "#fdca26"
             ],
             [
              1,
              "#f0f921"
             ]
            ],
            "type": "histogram2d"
           }
          ],
          "histogram2dcontour": [
           {
            "colorbar": {
             "outlinewidth": 0,
             "ticks": ""
            },
            "colorscale": [
             [
              0,
              "#0d0887"
             ],
             [
              0.1111111111111111,
              "#46039f"
             ],
             [
              0.2222222222222222,
              "#7201a8"
             ],
             [
              0.3333333333333333,
              "#9c179e"
             ],
             [
              0.4444444444444444,
              "#bd3786"
             ],
             [
              0.5555555555555556,
              "#d8576b"
             ],
             [
              0.6666666666666666,
              "#ed7953"
             ],
             [
              0.7777777777777778,
              "#fb9f3a"
             ],
             [
              0.8888888888888888,
              "#fdca26"
             ],
             [
              1,
              "#f0f921"
             ]
            ],
            "type": "histogram2dcontour"
           }
          ],
          "mesh3d": [
           {
            "colorbar": {
             "outlinewidth": 0,
             "ticks": ""
            },
            "type": "mesh3d"
           }
          ],
          "parcoords": [
           {
            "line": {
             "colorbar": {
              "outlinewidth": 0,
              "ticks": ""
             }
            },
            "type": "parcoords"
           }
          ],
          "pie": [
           {
            "automargin": true,
            "type": "pie"
           }
          ],
          "scatter": [
           {
            "fillpattern": {
             "fillmode": "overlay",
             "size": 10,
             "solidity": 0.2
            },
            "type": "scatter"
           }
          ],
          "scatter3d": [
           {
            "line": {
             "colorbar": {
              "outlinewidth": 0,
              "ticks": ""
             }
            },
            "marker": {
             "colorbar": {
              "outlinewidth": 0,
              "ticks": ""
             }
            },
            "type": "scatter3d"
           }
          ],
          "scattercarpet": [
           {
            "marker": {
             "colorbar": {
              "outlinewidth": 0,
              "ticks": ""
             }
            },
            "type": "scattercarpet"
           }
          ],
          "scattergeo": [
           {
            "marker": {
             "colorbar": {
              "outlinewidth": 0,
              "ticks": ""
             }
            },
            "type": "scattergeo"
           }
          ],
          "scattergl": [
           {
            "marker": {
             "colorbar": {
              "outlinewidth": 0,
              "ticks": ""
             }
            },
            "type": "scattergl"
           }
          ],
          "scattermapbox": [
           {
            "marker": {
             "colorbar": {
              "outlinewidth": 0,
              "ticks": ""
             }
            },
            "type": "scattermapbox"
           }
          ],
          "scatterpolar": [
           {
            "marker": {
             "colorbar": {
              "outlinewidth": 0,
              "ticks": ""
             }
            },
            "type": "scatterpolar"
           }
          ],
          "scatterpolargl": [
           {
            "marker": {
             "colorbar": {
              "outlinewidth": 0,
              "ticks": ""
             }
            },
            "type": "scatterpolargl"
           }
          ],
          "scatterternary": [
           {
            "marker": {
             "colorbar": {
              "outlinewidth": 0,
              "ticks": ""
             }
            },
            "type": "scatterternary"
           }
          ],
          "surface": [
           {
            "colorbar": {
             "outlinewidth": 0,
             "ticks": ""
            },
            "colorscale": [
             [
              0,
              "#0d0887"
             ],
             [
              0.1111111111111111,
              "#46039f"
             ],
             [
              0.2222222222222222,
              "#7201a8"
             ],
             [
              0.3333333333333333,
              "#9c179e"
             ],
             [
              0.4444444444444444,
              "#bd3786"
             ],
             [
              0.5555555555555556,
              "#d8576b"
             ],
             [
              0.6666666666666666,
              "#ed7953"
             ],
             [
              0.7777777777777778,
              "#fb9f3a"
             ],
             [
              0.8888888888888888,
              "#fdca26"
             ],
             [
              1,
              "#f0f921"
             ]
            ],
            "type": "surface"
           }
          ],
          "table": [
           {
            "cells": {
             "fill": {
              "color": "#EBF0F8"
             },
             "line": {
              "color": "white"
             }
            },
            "header": {
             "fill": {
              "color": "#C8D4E3"
             },
             "line": {
              "color": "white"
             }
            },
            "type": "table"
           }
          ]
         },
         "layout": {
          "annotationdefaults": {
           "arrowcolor": "#2a3f5f",
           "arrowhead": 0,
           "arrowwidth": 1
          },
          "autotypenumbers": "strict",
          "coloraxis": {
           "colorbar": {
            "outlinewidth": 0,
            "ticks": ""
           }
          },
          "colorscale": {
           "diverging": [
            [
             0,
             "#8e0152"
            ],
            [
             0.1,
             "#c51b7d"
            ],
            [
             0.2,
             "#de77ae"
            ],
            [
             0.3,
             "#f1b6da"
            ],
            [
             0.4,
             "#fde0ef"
            ],
            [
             0.5,
             "#f7f7f7"
            ],
            [
             0.6,
             "#e6f5d0"
            ],
            [
             0.7,
             "#b8e186"
            ],
            [
             0.8,
             "#7fbc41"
            ],
            [
             0.9,
             "#4d9221"
            ],
            [
             1,
             "#276419"
            ]
           ],
           "sequential": [
            [
             0,
             "#0d0887"
            ],
            [
             0.1111111111111111,
             "#46039f"
            ],
            [
             0.2222222222222222,
             "#7201a8"
            ],
            [
             0.3333333333333333,
             "#9c179e"
            ],
            [
             0.4444444444444444,
             "#bd3786"
            ],
            [
             0.5555555555555556,
             "#d8576b"
            ],
            [
             0.6666666666666666,
             "#ed7953"
            ],
            [
             0.7777777777777778,
             "#fb9f3a"
            ],
            [
             0.8888888888888888,
             "#fdca26"
            ],
            [
             1,
             "#f0f921"
            ]
           ],
           "sequentialminus": [
            [
             0,
             "#0d0887"
            ],
            [
             0.1111111111111111,
             "#46039f"
            ],
            [
             0.2222222222222222,
             "#7201a8"
            ],
            [
             0.3333333333333333,
             "#9c179e"
            ],
            [
             0.4444444444444444,
             "#bd3786"
            ],
            [
             0.5555555555555556,
             "#d8576b"
            ],
            [
             0.6666666666666666,
             "#ed7953"
            ],
            [
             0.7777777777777778,
             "#fb9f3a"
            ],
            [
             0.8888888888888888,
             "#fdca26"
            ],
            [
             1,
             "#f0f921"
            ]
           ]
          },
          "colorway": [
           "#636efa",
           "#EF553B",
           "#00cc96",
           "#ab63fa",
           "#FFA15A",
           "#19d3f3",
           "#FF6692",
           "#B6E880",
           "#FF97FF",
           "#FECB52"
          ],
          "font": {
           "color": "#2a3f5f"
          },
          "geo": {
           "bgcolor": "white",
           "lakecolor": "white",
           "landcolor": "#E5ECF6",
           "showlakes": true,
           "showland": true,
           "subunitcolor": "white"
          },
          "hoverlabel": {
           "align": "left"
          },
          "hovermode": "closest",
          "mapbox": {
           "style": "light"
          },
          "paper_bgcolor": "white",
          "plot_bgcolor": "#E5ECF6",
          "polar": {
           "angularaxis": {
            "gridcolor": "white",
            "linecolor": "white",
            "ticks": ""
           },
           "bgcolor": "#E5ECF6",
           "radialaxis": {
            "gridcolor": "white",
            "linecolor": "white",
            "ticks": ""
           }
          },
          "scene": {
           "xaxis": {
            "backgroundcolor": "#E5ECF6",
            "gridcolor": "white",
            "gridwidth": 2,
            "linecolor": "white",
            "showbackground": true,
            "ticks": "",
            "zerolinecolor": "white"
           },
           "yaxis": {
            "backgroundcolor": "#E5ECF6",
            "gridcolor": "white",
            "gridwidth": 2,
            "linecolor": "white",
            "showbackground": true,
            "ticks": "",
            "zerolinecolor": "white"
           },
           "zaxis": {
            "backgroundcolor": "#E5ECF6",
            "gridcolor": "white",
            "gridwidth": 2,
            "linecolor": "white",
            "showbackground": true,
            "ticks": "",
            "zerolinecolor": "white"
           }
          },
          "shapedefaults": {
           "line": {
            "color": "#2a3f5f"
           }
          },
          "ternary": {
           "aaxis": {
            "gridcolor": "white",
            "linecolor": "white",
            "ticks": ""
           },
           "baxis": {
            "gridcolor": "white",
            "linecolor": "white",
            "ticks": ""
           },
           "bgcolor": "#E5ECF6",
           "caxis": {
            "gridcolor": "white",
            "linecolor": "white",
            "ticks": ""
           }
          },
          "title": {
           "x": 0.05
          },
          "xaxis": {
           "automargin": true,
           "gridcolor": "white",
           "linecolor": "white",
           "ticks": "",
           "title": {
            "standoff": 15
           },
           "zerolinecolor": "white",
           "zerolinewidth": 2
          },
          "yaxis": {
           "automargin": true,
           "gridcolor": "white",
           "linecolor": "white",
           "ticks": "",
           "title": {
            "standoff": 15
           },
           "zerolinecolor": "white",
           "zerolinewidth": 2
          }
         }
        },
        "title": {
         "text": "PCA das poses 7 de Bruno"
        },
        "xaxis": {
         "anchor": "y",
         "domain": [
          0,
          1
         ],
         "title": {
          "text": "pc1"
         }
        },
        "yaxis": {
         "anchor": "x",
         "domain": [
          0,
          1
         ],
         "title": {
          "text": "pc2"
         }
        }
       }
      }
     },
     "metadata": {},
     "output_type": "display_data"
    }
   ],
   "source": [
    "# adiciona as componentes principais ao dataframe\n",
    "df_pose3['pc1'] = X_pca[:,0]\n",
    "df_pose3['pc2'] = X_pca[:,1]\n",
    "\n",
    "# plota as componentes principais\n",
    "fig = px.scatter(df_pose3, x='pc1', y='pc2', color='flag',\n",
    "                 title='PCA das poses 7 de Bruno')\n",
    "fig.show()"
   ]
  }
 ],
 "metadata": {
  "kernelspec": {
   "display_name": "Python 3",
   "language": "python",
   "name": "python3"
  },
  "language_info": {
   "codemirror_mode": {
    "name": "ipython",
    "version": 3
   },
   "file_extension": ".py",
   "mimetype": "text/x-python",
   "name": "python",
   "nbconvert_exporter": "python",
   "pygments_lexer": "ipython3",
   "version": "3.11.1"
  }
 },
 "nbformat": 4,
 "nbformat_minor": 2
}
